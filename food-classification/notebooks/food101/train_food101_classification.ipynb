{
 "cells": [
  {
   "cell_type": "code",
   "execution_count": 1,
   "metadata": {},
   "outputs": [],
   "source": [
    "import os\n",
    "import sys\n",
    "\n",
    "sys.path.append(os.path.abspath(os.path.dirname(os.path.dirname(os.path.join(os.getcwd())))))\n",
    "\n",
    "import torch\n",
    "import torch.nn as nn\n",
    "import torch.optim as optim\n",
    "from torch.utils.data import DataLoader\n",
    "\n",
    "import torchvision.transforms as transforms\n",
    "from torchvision.transforms import RandAugment\n",
    "from torchvision import datasets, models\n",
    "\n",
    "from model.utils import (\n",
    "    get_device,\n",
    "    train_model_single_epoch,\n",
    "    validate_model_single_epoch,\n",
    "    save_checkpoint,\n",
    "    evaluate_model_with_top_k,\n",
    "    plot_history,\n",
    ")"
   ]
  },
  {
   "cell_type": "code",
   "execution_count": 2,
   "metadata": {},
   "outputs": [],
   "source": [
    "base_dir = \"../../\"\n",
    "    \n",
    "train_transform = transforms.Compose([\n",
    "    transforms.Resize((224, 224)),\n",
    "    RandAugment(num_ops=2, magnitude=9),\n",
    "    transforms.ToTensor(),  \n",
    "    transforms.Normalize(mean=[0.485, 0.456, 0.406], std=[0.229, 0.224, 0.225])  \n",
    "])\n",
    "\n",
    "val_transform = transforms.Compose([\n",
    "    transforms.Resize((224, 224)),\n",
    "    transforms.ToTensor(),\n",
    "    transforms.Normalize(mean=[0.485, 0.456, 0.406], std=[0.229, 0.224, 0.225])\n",
    "])\n",
    "\n",
    "train_dataset = datasets.Food101(root=f\"{base_dir}data/food101\", split=\"train\", download=False, transform=train_transform)\n",
    "test_dataset = datasets.Food101(root=f\"{base_dir}data/food101\", split=\"test\", download=False, transform=val_transform)\n",
    "\n",
    "\n",
    "train_loader = DataLoader(train_dataset, batch_size=32, shuffle=True)\n",
    "test_loader = DataLoader(test_dataset, batch_size=32, shuffle=False)"
   ]
  },
  {
   "cell_type": "code",
   "execution_count": 3,
   "metadata": {},
   "outputs": [
    {
     "name": "stdout",
     "output_type": "stream",
     "text": [
      "Batch of images shape: torch.Size([32, 3, 224, 224])\n",
      "Batch of labels shape: torch.Size([32])\n"
     ]
    }
   ],
   "source": [
    "for images, labels in train_loader:\n",
    "    print(f\"Batch of images shape: {images.shape}\")\n",
    "    print(f\"Batch of labels shape: {labels.shape}\")\n",
    "    break"
   ]
  },
  {
   "cell_type": "code",
   "execution_count": 4,
   "metadata": {},
   "outputs": [
    {
     "name": "stderr",
     "output_type": "stream",
     "text": [
      "/Users/ericxia/Library/Caches/pypoetry/virtualenvs/food-classification-nES7ttkF-py3.10/lib/python3.10/site-packages/torchvision/models/_utils.py:208: UserWarning: The parameter 'pretrained' is deprecated since 0.13 and may be removed in the future, please use 'weights' instead.\n",
      "  warnings.warn(\n",
      "/Users/ericxia/Library/Caches/pypoetry/virtualenvs/food-classification-nES7ttkF-py3.10/lib/python3.10/site-packages/torchvision/models/_utils.py:223: UserWarning: Arguments other than a weight enum or `None` for 'weights' are deprecated since 0.13 and may be removed in the future. The current behavior is equivalent to passing `weights=EfficientNet_B0_Weights.IMAGENET1K_V1`. You can also use `weights=EfficientNet_B0_Weights.DEFAULT` to get the most up-to-date weights.\n",
      "  warnings.warn(msg)\n"
     ]
    }
   ],
   "source": [
    "# EfficientNet finetune\n",
    "model = models.efficientnet_b0(pretrained=True)\n",
    "\n",
    "num_ftrs = model.classifier[1].in_features\n",
    "model.classifier = nn.Sequential(\n",
    "    nn.Dropout(0.2),\n",
    "    nn.Linear(num_ftrs, 101)  # 101 food classes\n",
    ")"
   ]
  },
  {
   "cell_type": "code",
   "execution_count": 5,
   "metadata": {},
   "outputs": [
    {
     "name": "stderr",
     "output_type": "stream",
     "text": [
      "/Users/ericxia/Library/Caches/pypoetry/virtualenvs/food-classification-nES7ttkF-py3.10/lib/python3.10/site-packages/torch/amp/grad_scaler.py:132: UserWarning: torch.cuda.amp.GradScaler is enabled, but CUDA is not available.  Disabling.\n",
      "  warnings.warn(\n"
     ]
    }
   ],
   "source": [
    "device = get_device()\n",
    "\n",
    "model = model.to(device)\n",
    "criterion = nn.CrossEntropyLoss()\n",
    "optimizer = optim.AdamW(model.parameters(), lr=1e-3, weight_decay=1e-3)\n",
    "scaler = torch.amp.GradScaler(\"cuda\")\n",
    "grad_clip = 1\n",
    "ckpt_dir = \"checkpoints/food101_efficientnetb0\"\n",
    "\n",
    "history = {\n",
    "    \"train_loss\": [],\n",
    "    \"train_accuracy\": [],\n",
    "    \"val_loss\": [],\n",
    "    \"val_accuracy\": []\n",
    "}\n",
    "\n",
    "# Training loop\n",
    "def train_model(model, train_loader, val_loader, criterion, optimizer, device, scaler, grad_clip, history, ckpt_dir, num_epochs=10):\n",
    "    model.train()\n",
    "\n",
    "    for epoch in range(1, num_epochs+1):\n",
    "        train_loss, train_accuracy = train_model_single_epoch(\n",
    "            model, train_loader, criterion, optimizer, device, scaler, grad_clip\n",
    "        )\n",
    "        val_loss, val_accuracy = validate_model_single_epoch(model, val_loader, criterion, device)\n",
    "\n",
    "        print(\n",
    "            f\"[Epoch {epoch}/{num_epochs}]\",\n",
    "            f\"Train Loss: {train_loss:.4f} | \" f\"Train Accuracy: {train_accuracy:.4f}\",\n",
    "            f\"Val Loss: {val_loss:.4f} | \" f\"Val Accuracy: {val_accuracy:.4f}\"\n",
    "        )\n",
    "\n",
    "        history[\"train_loss\"].append(train_loss)\n",
    "        history[\"train_accuracy\"].append(train_accuracy)\n",
    "        history[\"val_loss\"].append(val_loss)\n",
    "        history[\"val_accuracy\"].append(val_accuracy)\n",
    "\n",
    "        save_checkpoint(epoch, model, optimizer, history, ckpt_dir)"
   ]
  },
  {
   "cell_type": "code",
   "execution_count": 27,
   "metadata": {},
   "outputs": [
    {
     "name": "stderr",
     "output_type": "stream",
     "text": [
      "Training: 100%|██████████| 2368/2368 [15:20<00:00,  2.57it/s, loss=2.51] \n"
     ]
    },
    {
     "name": "stdout",
     "output_type": "stream",
     "text": [
      "[Epoch 1/20] Train Loss: 1.9769 | Train Accuracy: 0.5035 Val Loss: 1.1569 | Val Accuracy: 0.6888\n",
      "Model checkpoint saved at checkpoints/food101_efficientnetb0/ckpt_1\n"
     ]
    },
    {
     "name": "stderr",
     "output_type": "stream",
     "text": [
      "Training: 100%|██████████| 2368/2368 [15:02<00:00,  2.62it/s, loss=2.15] \n"
     ]
    },
    {
     "name": "stdout",
     "output_type": "stream",
     "text": [
      "[Epoch 2/20] Train Loss: 1.3888 | Train Accuracy: 0.6376 Val Loss: 0.9021 | Val Accuracy: 0.7514\n",
      "Model checkpoint saved at checkpoints/food101_efficientnetb0/ckpt_2\n"
     ]
    },
    {
     "name": "stderr",
     "output_type": "stream",
     "text": [
      "Training: 100%|██████████| 2368/2368 [14:34<00:00,  2.71it/s, loss=0.724]\n"
     ]
    },
    {
     "name": "stdout",
     "output_type": "stream",
     "text": [
      "[Epoch 3/20] Train Loss: 1.1930 | Train Accuracy: 0.6839 Val Loss: 0.8473 | Val Accuracy: 0.7648\n",
      "Model checkpoint saved at checkpoints/food101_efficientnetb0/ckpt_3\n"
     ]
    },
    {
     "name": "stderr",
     "output_type": "stream",
     "text": [
      "Training: 100%|██████████| 2368/2368 [21:43<00:00,  1.82it/s, loss=2.55] \n"
     ]
    },
    {
     "name": "stdout",
     "output_type": "stream",
     "text": [
      "[Epoch 4/20] Train Loss: 1.0690 | Train Accuracy: 0.7135 Val Loss: 0.7901 | Val Accuracy: 0.7883\n",
      "Model checkpoint saved at checkpoints/food101_efficientnetb0/ckpt_4\n"
     ]
    },
    {
     "name": "stderr",
     "output_type": "stream",
     "text": [
      "Training: 100%|██████████| 2368/2368 [29:48<00:00,  1.32it/s, loss=0.592]\n"
     ]
    },
    {
     "name": "stdout",
     "output_type": "stream",
     "text": [
      "[Epoch 5/20] Train Loss: 0.9684 | Train Accuracy: 0.7353 Val Loss: 0.7987 | Val Accuracy: 0.7825\n",
      "Model checkpoint saved at checkpoints/food101_efficientnetb0/ckpt_5\n"
     ]
    },
    {
     "name": "stderr",
     "output_type": "stream",
     "text": [
      "Training: 100%|██████████| 2368/2368 [37:50<00:00,  1.04it/s, loss=1.82] \n"
     ]
    },
    {
     "name": "stdout",
     "output_type": "stream",
     "text": [
      "[Epoch 6/20] Train Loss: 0.8873 | Train Accuracy: 0.7558 Val Loss: 0.7607 | Val Accuracy: 0.7975\n",
      "Model checkpoint saved at checkpoints/food101_efficientnetb0/ckpt_6\n"
     ]
    },
    {
     "name": "stderr",
     "output_type": "stream",
     "text": [
      "Training: 100%|██████████| 2368/2368 [27:10<00:00,  1.45it/s, loss=1.44] \n"
     ]
    },
    {
     "name": "stdout",
     "output_type": "stream",
     "text": [
      "[Epoch 7/20] Train Loss: 0.8192 | Train Accuracy: 0.7712 Val Loss: 0.7452 | Val Accuracy: 0.7977\n",
      "Model checkpoint saved at checkpoints/food101_efficientnetb0/ckpt_7\n"
     ]
    },
    {
     "name": "stderr",
     "output_type": "stream",
     "text": [
      "Training: 100%|██████████| 2368/2368 [29:39<00:00,  1.33it/s, loss=1.06] \n"
     ]
    },
    {
     "name": "stdout",
     "output_type": "stream",
     "text": [
      "[Epoch 8/20] Train Loss: 0.7562 | Train Accuracy: 0.7886 Val Loss: 0.7498 | Val Accuracy: 0.8015\n",
      "Model checkpoint saved at checkpoints/food101_efficientnetb0/ckpt_8\n"
     ]
    },
    {
     "name": "stderr",
     "output_type": "stream",
     "text": [
      "Training: 100%|██████████| 2368/2368 [27:16<00:00,  1.45it/s, loss=1.3]  \n"
     ]
    },
    {
     "name": "stdout",
     "output_type": "stream",
     "text": [
      "[Epoch 9/20] Train Loss: 0.7107 | Train Accuracy: 0.7999 Val Loss: 0.7406 | Val Accuracy: 0.8047\n",
      "Model checkpoint saved at checkpoints/food101_efficientnetb0/ckpt_9\n"
     ]
    },
    {
     "name": "stderr",
     "output_type": "stream",
     "text": [
      "Training: 100%|██████████| 2368/2368 [28:17<00:00,  1.39it/s, loss=1.37] \n"
     ]
    },
    {
     "name": "stdout",
     "output_type": "stream",
     "text": [
      "[Epoch 10/20] Train Loss: 0.6520 | Train Accuracy: 0.8150 Val Loss: 0.7436 | Val Accuracy: 0.8066\n",
      "Model checkpoint saved at checkpoints/food101_efficientnetb0/ckpt_10\n"
     ]
    },
    {
     "name": "stderr",
     "output_type": "stream",
     "text": [
      "Training: 100%|██████████| 2368/2368 [27:10<00:00,  1.45it/s, loss=1.09] \n"
     ]
    },
    {
     "name": "stdout",
     "output_type": "stream",
     "text": [
      "[Epoch 11/20] Train Loss: 0.6155 | Train Accuracy: 0.8231 Val Loss: 0.7770 | Val Accuracy: 0.8050\n",
      "Model checkpoint saved at checkpoints/food101_efficientnetb0/ckpt_11\n"
     ]
    },
    {
     "name": "stderr",
     "output_type": "stream",
     "text": [
      "Training: 100%|██████████| 2368/2368 [28:27<00:00,  1.39it/s, loss=0.295]\n"
     ]
    },
    {
     "name": "stdout",
     "output_type": "stream",
     "text": [
      "[Epoch 12/20] Train Loss: 0.5680 | Train Accuracy: 0.8361 Val Loss: 0.7930 | Val Accuracy: 0.8030\n",
      "Model checkpoint saved at checkpoints/food101_efficientnetb0/ckpt_12\n"
     ]
    },
    {
     "name": "stderr",
     "output_type": "stream",
     "text": [
      "Training: 100%|██████████| 2368/2368 [26:54<00:00,  1.47it/s, loss=0.332] \n"
     ]
    },
    {
     "name": "stdout",
     "output_type": "stream",
     "text": [
      "[Epoch 13/20] Train Loss: 0.5440 | Train Accuracy: 0.8417 Val Loss: 0.8018 | Val Accuracy: 0.8014\n",
      "Model checkpoint saved at checkpoints/food101_efficientnetb0/ckpt_13\n"
     ]
    },
    {
     "name": "stderr",
     "output_type": "stream",
     "text": [
      "Training: 100%|██████████| 2368/2368 [28:50<00:00,  1.37it/s, loss=1.34]  \n"
     ]
    },
    {
     "name": "stdout",
     "output_type": "stream",
     "text": [
      "[Epoch 14/20] Train Loss: 0.5186 | Train Accuracy: 0.8489 Val Loss: 0.7853 | Val Accuracy: 0.8080\n",
      "Model checkpoint saved at checkpoints/food101_efficientnetb0/ckpt_14\n"
     ]
    },
    {
     "name": "stderr",
     "output_type": "stream",
     "text": [
      "Training: 100%|██████████| 2368/2368 [27:03<00:00,  1.46it/s, loss=0.0864]\n"
     ]
    },
    {
     "name": "stdout",
     "output_type": "stream",
     "text": [
      "[Epoch 15/20] Train Loss: 0.4801 | Train Accuracy: 0.8586 Val Loss: 0.8110 | Val Accuracy: 0.8053\n",
      "Model checkpoint saved at checkpoints/food101_efficientnetb0/ckpt_15\n"
     ]
    },
    {
     "name": "stderr",
     "output_type": "stream",
     "text": [
      "Training: 100%|██████████| 2368/2368 [28:42<00:00,  1.37it/s, loss=1.9]   \n"
     ]
    },
    {
     "name": "stdout",
     "output_type": "stream",
     "text": [
      "[Epoch 16/20] Train Loss: 0.4587 | Train Accuracy: 0.8639 Val Loss: 0.8247 | Val Accuracy: 0.8056\n",
      "Model checkpoint saved at checkpoints/food101_efficientnetb0/ckpt_16\n"
     ]
    },
    {
     "name": "stderr",
     "output_type": "stream",
     "text": [
      "Training: 100%|██████████| 2368/2368 [27:18<00:00,  1.45it/s, loss=1]     \n"
     ]
    },
    {
     "name": "stdout",
     "output_type": "stream",
     "text": [
      "[Epoch 17/20] Train Loss: 0.4380 | Train Accuracy: 0.8693 Val Loss: 0.8429 | Val Accuracy: 0.8019\n",
      "Model checkpoint saved at checkpoints/food101_efficientnetb0/ckpt_17\n"
     ]
    },
    {
     "name": "stderr",
     "output_type": "stream",
     "text": [
      "Training: 100%|██████████| 2368/2368 [28:30<00:00,  1.38it/s, loss=0.901] \n"
     ]
    },
    {
     "name": "stdout",
     "output_type": "stream",
     "text": [
      "[Epoch 18/20] Train Loss: 0.4177 | Train Accuracy: 0.8763 Val Loss: 0.8816 | Val Accuracy: 0.8042\n",
      "Model checkpoint saved at checkpoints/food101_efficientnetb0/ckpt_18\n"
     ]
    },
    {
     "name": "stderr",
     "output_type": "stream",
     "text": [
      "Training: 100%|██████████| 2368/2368 [27:33<00:00,  1.43it/s, loss=1.54]  \n"
     ]
    },
    {
     "name": "stdout",
     "output_type": "stream",
     "text": [
      "[Epoch 19/20] Train Loss: 0.3950 | Train Accuracy: 0.8822 Val Loss: 0.8655 | Val Accuracy: 0.8038\n",
      "Model checkpoint saved at checkpoints/food101_efficientnetb0/ckpt_19\n"
     ]
    },
    {
     "name": "stderr",
     "output_type": "stream",
     "text": [
      "Training: 100%|██████████| 2368/2368 [28:32<00:00,  1.38it/s, loss=0.884] \n"
     ]
    },
    {
     "name": "stdout",
     "output_type": "stream",
     "text": [
      "[Epoch 20/20] Train Loss: 0.3738 | Train Accuracy: 0.8859 Val Loss: 0.8667 | Val Accuracy: 0.8060\n",
      "Model checkpoint saved at checkpoints/food101_efficientnetb0/ckpt_20\n"
     ]
    }
   ],
   "source": [
    "num_epochs = 20\n",
    "# add augmentation\n",
    "train_model(model, train_loader, test_loader, criterion, optimizer, device, scaler, grad_clip, history, ckpt_dir, num_epochs=num_epochs)"
   ]
  },
  {
   "cell_type": "markdown",
   "metadata": {},
   "source": [
    "### Model evaluation"
   ]
  },
  {
   "cell_type": "code",
   "execution_count": 6,
   "metadata": {},
   "outputs": [],
   "source": [
    "class_mapping = {}\n",
    "with open(f'{base_dir}data/food101/food-101/meta/classes.txt', 'r') as file:\n",
    "    classes = file.read().splitlines()\n",
    "    for index, class_name in enumerate(classes):\n",
    "        class_mapping[index] = class_name"
   ]
  },
  {
   "cell_type": "code",
   "execution_count": 7,
   "metadata": {},
   "outputs": [
    {
     "data": {
      "text/plain": [
       "EfficientNet(\n",
       "  (features): Sequential(\n",
       "    (0): Conv2dNormActivation(\n",
       "      (0): Conv2d(3, 32, kernel_size=(3, 3), stride=(2, 2), padding=(1, 1), bias=False)\n",
       "      (1): BatchNorm2d(32, eps=1e-05, momentum=0.1, affine=True, track_running_stats=True)\n",
       "      (2): SiLU(inplace=True)\n",
       "    )\n",
       "    (1): Sequential(\n",
       "      (0): MBConv(\n",
       "        (block): Sequential(\n",
       "          (0): Conv2dNormActivation(\n",
       "            (0): Conv2d(32, 32, kernel_size=(3, 3), stride=(1, 1), padding=(1, 1), groups=32, bias=False)\n",
       "            (1): BatchNorm2d(32, eps=1e-05, momentum=0.1, affine=True, track_running_stats=True)\n",
       "            (2): SiLU(inplace=True)\n",
       "          )\n",
       "          (1): SqueezeExcitation(\n",
       "            (avgpool): AdaptiveAvgPool2d(output_size=1)\n",
       "            (fc1): Conv2d(32, 8, kernel_size=(1, 1), stride=(1, 1))\n",
       "            (fc2): Conv2d(8, 32, kernel_size=(1, 1), stride=(1, 1))\n",
       "            (activation): SiLU(inplace=True)\n",
       "            (scale_activation): Sigmoid()\n",
       "          )\n",
       "          (2): Conv2dNormActivation(\n",
       "            (0): Conv2d(32, 16, kernel_size=(1, 1), stride=(1, 1), bias=False)\n",
       "            (1): BatchNorm2d(16, eps=1e-05, momentum=0.1, affine=True, track_running_stats=True)\n",
       "          )\n",
       "        )\n",
       "        (stochastic_depth): StochasticDepth(p=0.0, mode=row)\n",
       "      )\n",
       "    )\n",
       "    (2): Sequential(\n",
       "      (0): MBConv(\n",
       "        (block): Sequential(\n",
       "          (0): Conv2dNormActivation(\n",
       "            (0): Conv2d(16, 96, kernel_size=(1, 1), stride=(1, 1), bias=False)\n",
       "            (1): BatchNorm2d(96, eps=1e-05, momentum=0.1, affine=True, track_running_stats=True)\n",
       "            (2): SiLU(inplace=True)\n",
       "          )\n",
       "          (1): Conv2dNormActivation(\n",
       "            (0): Conv2d(96, 96, kernel_size=(3, 3), stride=(2, 2), padding=(1, 1), groups=96, bias=False)\n",
       "            (1): BatchNorm2d(96, eps=1e-05, momentum=0.1, affine=True, track_running_stats=True)\n",
       "            (2): SiLU(inplace=True)\n",
       "          )\n",
       "          (2): SqueezeExcitation(\n",
       "            (avgpool): AdaptiveAvgPool2d(output_size=1)\n",
       "            (fc1): Conv2d(96, 4, kernel_size=(1, 1), stride=(1, 1))\n",
       "            (fc2): Conv2d(4, 96, kernel_size=(1, 1), stride=(1, 1))\n",
       "            (activation): SiLU(inplace=True)\n",
       "            (scale_activation): Sigmoid()\n",
       "          )\n",
       "          (3): Conv2dNormActivation(\n",
       "            (0): Conv2d(96, 24, kernel_size=(1, 1), stride=(1, 1), bias=False)\n",
       "            (1): BatchNorm2d(24, eps=1e-05, momentum=0.1, affine=True, track_running_stats=True)\n",
       "          )\n",
       "        )\n",
       "        (stochastic_depth): StochasticDepth(p=0.0125, mode=row)\n",
       "      )\n",
       "      (1): MBConv(\n",
       "        (block): Sequential(\n",
       "          (0): Conv2dNormActivation(\n",
       "            (0): Conv2d(24, 144, kernel_size=(1, 1), stride=(1, 1), bias=False)\n",
       "            (1): BatchNorm2d(144, eps=1e-05, momentum=0.1, affine=True, track_running_stats=True)\n",
       "            (2): SiLU(inplace=True)\n",
       "          )\n",
       "          (1): Conv2dNormActivation(\n",
       "            (0): Conv2d(144, 144, kernel_size=(3, 3), stride=(1, 1), padding=(1, 1), groups=144, bias=False)\n",
       "            (1): BatchNorm2d(144, eps=1e-05, momentum=0.1, affine=True, track_running_stats=True)\n",
       "            (2): SiLU(inplace=True)\n",
       "          )\n",
       "          (2): SqueezeExcitation(\n",
       "            (avgpool): AdaptiveAvgPool2d(output_size=1)\n",
       "            (fc1): Conv2d(144, 6, kernel_size=(1, 1), stride=(1, 1))\n",
       "            (fc2): Conv2d(6, 144, kernel_size=(1, 1), stride=(1, 1))\n",
       "            (activation): SiLU(inplace=True)\n",
       "            (scale_activation): Sigmoid()\n",
       "          )\n",
       "          (3): Conv2dNormActivation(\n",
       "            (0): Conv2d(144, 24, kernel_size=(1, 1), stride=(1, 1), bias=False)\n",
       "            (1): BatchNorm2d(24, eps=1e-05, momentum=0.1, affine=True, track_running_stats=True)\n",
       "          )\n",
       "        )\n",
       "        (stochastic_depth): StochasticDepth(p=0.025, mode=row)\n",
       "      )\n",
       "    )\n",
       "    (3): Sequential(\n",
       "      (0): MBConv(\n",
       "        (block): Sequential(\n",
       "          (0): Conv2dNormActivation(\n",
       "            (0): Conv2d(24, 144, kernel_size=(1, 1), stride=(1, 1), bias=False)\n",
       "            (1): BatchNorm2d(144, eps=1e-05, momentum=0.1, affine=True, track_running_stats=True)\n",
       "            (2): SiLU(inplace=True)\n",
       "          )\n",
       "          (1): Conv2dNormActivation(\n",
       "            (0): Conv2d(144, 144, kernel_size=(5, 5), stride=(2, 2), padding=(2, 2), groups=144, bias=False)\n",
       "            (1): BatchNorm2d(144, eps=1e-05, momentum=0.1, affine=True, track_running_stats=True)\n",
       "            (2): SiLU(inplace=True)\n",
       "          )\n",
       "          (2): SqueezeExcitation(\n",
       "            (avgpool): AdaptiveAvgPool2d(output_size=1)\n",
       "            (fc1): Conv2d(144, 6, kernel_size=(1, 1), stride=(1, 1))\n",
       "            (fc2): Conv2d(6, 144, kernel_size=(1, 1), stride=(1, 1))\n",
       "            (activation): SiLU(inplace=True)\n",
       "            (scale_activation): Sigmoid()\n",
       "          )\n",
       "          (3): Conv2dNormActivation(\n",
       "            (0): Conv2d(144, 40, kernel_size=(1, 1), stride=(1, 1), bias=False)\n",
       "            (1): BatchNorm2d(40, eps=1e-05, momentum=0.1, affine=True, track_running_stats=True)\n",
       "          )\n",
       "        )\n",
       "        (stochastic_depth): StochasticDepth(p=0.037500000000000006, mode=row)\n",
       "      )\n",
       "      (1): MBConv(\n",
       "        (block): Sequential(\n",
       "          (0): Conv2dNormActivation(\n",
       "            (0): Conv2d(40, 240, kernel_size=(1, 1), stride=(1, 1), bias=False)\n",
       "            (1): BatchNorm2d(240, eps=1e-05, momentum=0.1, affine=True, track_running_stats=True)\n",
       "            (2): SiLU(inplace=True)\n",
       "          )\n",
       "          (1): Conv2dNormActivation(\n",
       "            (0): Conv2d(240, 240, kernel_size=(5, 5), stride=(1, 1), padding=(2, 2), groups=240, bias=False)\n",
       "            (1): BatchNorm2d(240, eps=1e-05, momentum=0.1, affine=True, track_running_stats=True)\n",
       "            (2): SiLU(inplace=True)\n",
       "          )\n",
       "          (2): SqueezeExcitation(\n",
       "            (avgpool): AdaptiveAvgPool2d(output_size=1)\n",
       "            (fc1): Conv2d(240, 10, kernel_size=(1, 1), stride=(1, 1))\n",
       "            (fc2): Conv2d(10, 240, kernel_size=(1, 1), stride=(1, 1))\n",
       "            (activation): SiLU(inplace=True)\n",
       "            (scale_activation): Sigmoid()\n",
       "          )\n",
       "          (3): Conv2dNormActivation(\n",
       "            (0): Conv2d(240, 40, kernel_size=(1, 1), stride=(1, 1), bias=False)\n",
       "            (1): BatchNorm2d(40, eps=1e-05, momentum=0.1, affine=True, track_running_stats=True)\n",
       "          )\n",
       "        )\n",
       "        (stochastic_depth): StochasticDepth(p=0.05, mode=row)\n",
       "      )\n",
       "    )\n",
       "    (4): Sequential(\n",
       "      (0): MBConv(\n",
       "        (block): Sequential(\n",
       "          (0): Conv2dNormActivation(\n",
       "            (0): Conv2d(40, 240, kernel_size=(1, 1), stride=(1, 1), bias=False)\n",
       "            (1): BatchNorm2d(240, eps=1e-05, momentum=0.1, affine=True, track_running_stats=True)\n",
       "            (2): SiLU(inplace=True)\n",
       "          )\n",
       "          (1): Conv2dNormActivation(\n",
       "            (0): Conv2d(240, 240, kernel_size=(3, 3), stride=(2, 2), padding=(1, 1), groups=240, bias=False)\n",
       "            (1): BatchNorm2d(240, eps=1e-05, momentum=0.1, affine=True, track_running_stats=True)\n",
       "            (2): SiLU(inplace=True)\n",
       "          )\n",
       "          (2): SqueezeExcitation(\n",
       "            (avgpool): AdaptiveAvgPool2d(output_size=1)\n",
       "            (fc1): Conv2d(240, 10, kernel_size=(1, 1), stride=(1, 1))\n",
       "            (fc2): Conv2d(10, 240, kernel_size=(1, 1), stride=(1, 1))\n",
       "            (activation): SiLU(inplace=True)\n",
       "            (scale_activation): Sigmoid()\n",
       "          )\n",
       "          (3): Conv2dNormActivation(\n",
       "            (0): Conv2d(240, 80, kernel_size=(1, 1), stride=(1, 1), bias=False)\n",
       "            (1): BatchNorm2d(80, eps=1e-05, momentum=0.1, affine=True, track_running_stats=True)\n",
       "          )\n",
       "        )\n",
       "        (stochastic_depth): StochasticDepth(p=0.0625, mode=row)\n",
       "      )\n",
       "      (1): MBConv(\n",
       "        (block): Sequential(\n",
       "          (0): Conv2dNormActivation(\n",
       "            (0): Conv2d(80, 480, kernel_size=(1, 1), stride=(1, 1), bias=False)\n",
       "            (1): BatchNorm2d(480, eps=1e-05, momentum=0.1, affine=True, track_running_stats=True)\n",
       "            (2): SiLU(inplace=True)\n",
       "          )\n",
       "          (1): Conv2dNormActivation(\n",
       "            (0): Conv2d(480, 480, kernel_size=(3, 3), stride=(1, 1), padding=(1, 1), groups=480, bias=False)\n",
       "            (1): BatchNorm2d(480, eps=1e-05, momentum=0.1, affine=True, track_running_stats=True)\n",
       "            (2): SiLU(inplace=True)\n",
       "          )\n",
       "          (2): SqueezeExcitation(\n",
       "            (avgpool): AdaptiveAvgPool2d(output_size=1)\n",
       "            (fc1): Conv2d(480, 20, kernel_size=(1, 1), stride=(1, 1))\n",
       "            (fc2): Conv2d(20, 480, kernel_size=(1, 1), stride=(1, 1))\n",
       "            (activation): SiLU(inplace=True)\n",
       "            (scale_activation): Sigmoid()\n",
       "          )\n",
       "          (3): Conv2dNormActivation(\n",
       "            (0): Conv2d(480, 80, kernel_size=(1, 1), stride=(1, 1), bias=False)\n",
       "            (1): BatchNorm2d(80, eps=1e-05, momentum=0.1, affine=True, track_running_stats=True)\n",
       "          )\n",
       "        )\n",
       "        (stochastic_depth): StochasticDepth(p=0.07500000000000001, mode=row)\n",
       "      )\n",
       "      (2): MBConv(\n",
       "        (block): Sequential(\n",
       "          (0): Conv2dNormActivation(\n",
       "            (0): Conv2d(80, 480, kernel_size=(1, 1), stride=(1, 1), bias=False)\n",
       "            (1): BatchNorm2d(480, eps=1e-05, momentum=0.1, affine=True, track_running_stats=True)\n",
       "            (2): SiLU(inplace=True)\n",
       "          )\n",
       "          (1): Conv2dNormActivation(\n",
       "            (0): Conv2d(480, 480, kernel_size=(3, 3), stride=(1, 1), padding=(1, 1), groups=480, bias=False)\n",
       "            (1): BatchNorm2d(480, eps=1e-05, momentum=0.1, affine=True, track_running_stats=True)\n",
       "            (2): SiLU(inplace=True)\n",
       "          )\n",
       "          (2): SqueezeExcitation(\n",
       "            (avgpool): AdaptiveAvgPool2d(output_size=1)\n",
       "            (fc1): Conv2d(480, 20, kernel_size=(1, 1), stride=(1, 1))\n",
       "            (fc2): Conv2d(20, 480, kernel_size=(1, 1), stride=(1, 1))\n",
       "            (activation): SiLU(inplace=True)\n",
       "            (scale_activation): Sigmoid()\n",
       "          )\n",
       "          (3): Conv2dNormActivation(\n",
       "            (0): Conv2d(480, 80, kernel_size=(1, 1), stride=(1, 1), bias=False)\n",
       "            (1): BatchNorm2d(80, eps=1e-05, momentum=0.1, affine=True, track_running_stats=True)\n",
       "          )\n",
       "        )\n",
       "        (stochastic_depth): StochasticDepth(p=0.08750000000000001, mode=row)\n",
       "      )\n",
       "    )\n",
       "    (5): Sequential(\n",
       "      (0): MBConv(\n",
       "        (block): Sequential(\n",
       "          (0): Conv2dNormActivation(\n",
       "            (0): Conv2d(80, 480, kernel_size=(1, 1), stride=(1, 1), bias=False)\n",
       "            (1): BatchNorm2d(480, eps=1e-05, momentum=0.1, affine=True, track_running_stats=True)\n",
       "            (2): SiLU(inplace=True)\n",
       "          )\n",
       "          (1): Conv2dNormActivation(\n",
       "            (0): Conv2d(480, 480, kernel_size=(5, 5), stride=(1, 1), padding=(2, 2), groups=480, bias=False)\n",
       "            (1): BatchNorm2d(480, eps=1e-05, momentum=0.1, affine=True, track_running_stats=True)\n",
       "            (2): SiLU(inplace=True)\n",
       "          )\n",
       "          (2): SqueezeExcitation(\n",
       "            (avgpool): AdaptiveAvgPool2d(output_size=1)\n",
       "            (fc1): Conv2d(480, 20, kernel_size=(1, 1), stride=(1, 1))\n",
       "            (fc2): Conv2d(20, 480, kernel_size=(1, 1), stride=(1, 1))\n",
       "            (activation): SiLU(inplace=True)\n",
       "            (scale_activation): Sigmoid()\n",
       "          )\n",
       "          (3): Conv2dNormActivation(\n",
       "            (0): Conv2d(480, 112, kernel_size=(1, 1), stride=(1, 1), bias=False)\n",
       "            (1): BatchNorm2d(112, eps=1e-05, momentum=0.1, affine=True, track_running_stats=True)\n",
       "          )\n",
       "        )\n",
       "        (stochastic_depth): StochasticDepth(p=0.1, mode=row)\n",
       "      )\n",
       "      (1): MBConv(\n",
       "        (block): Sequential(\n",
       "          (0): Conv2dNormActivation(\n",
       "            (0): Conv2d(112, 672, kernel_size=(1, 1), stride=(1, 1), bias=False)\n",
       "            (1): BatchNorm2d(672, eps=1e-05, momentum=0.1, affine=True, track_running_stats=True)\n",
       "            (2): SiLU(inplace=True)\n",
       "          )\n",
       "          (1): Conv2dNormActivation(\n",
       "            (0): Conv2d(672, 672, kernel_size=(5, 5), stride=(1, 1), padding=(2, 2), groups=672, bias=False)\n",
       "            (1): BatchNorm2d(672, eps=1e-05, momentum=0.1, affine=True, track_running_stats=True)\n",
       "            (2): SiLU(inplace=True)\n",
       "          )\n",
       "          (2): SqueezeExcitation(\n",
       "            (avgpool): AdaptiveAvgPool2d(output_size=1)\n",
       "            (fc1): Conv2d(672, 28, kernel_size=(1, 1), stride=(1, 1))\n",
       "            (fc2): Conv2d(28, 672, kernel_size=(1, 1), stride=(1, 1))\n",
       "            (activation): SiLU(inplace=True)\n",
       "            (scale_activation): Sigmoid()\n",
       "          )\n",
       "          (3): Conv2dNormActivation(\n",
       "            (0): Conv2d(672, 112, kernel_size=(1, 1), stride=(1, 1), bias=False)\n",
       "            (1): BatchNorm2d(112, eps=1e-05, momentum=0.1, affine=True, track_running_stats=True)\n",
       "          )\n",
       "        )\n",
       "        (stochastic_depth): StochasticDepth(p=0.1125, mode=row)\n",
       "      )\n",
       "      (2): MBConv(\n",
       "        (block): Sequential(\n",
       "          (0): Conv2dNormActivation(\n",
       "            (0): Conv2d(112, 672, kernel_size=(1, 1), stride=(1, 1), bias=False)\n",
       "            (1): BatchNorm2d(672, eps=1e-05, momentum=0.1, affine=True, track_running_stats=True)\n",
       "            (2): SiLU(inplace=True)\n",
       "          )\n",
       "          (1): Conv2dNormActivation(\n",
       "            (0): Conv2d(672, 672, kernel_size=(5, 5), stride=(1, 1), padding=(2, 2), groups=672, bias=False)\n",
       "            (1): BatchNorm2d(672, eps=1e-05, momentum=0.1, affine=True, track_running_stats=True)\n",
       "            (2): SiLU(inplace=True)\n",
       "          )\n",
       "          (2): SqueezeExcitation(\n",
       "            (avgpool): AdaptiveAvgPool2d(output_size=1)\n",
       "            (fc1): Conv2d(672, 28, kernel_size=(1, 1), stride=(1, 1))\n",
       "            (fc2): Conv2d(28, 672, kernel_size=(1, 1), stride=(1, 1))\n",
       "            (activation): SiLU(inplace=True)\n",
       "            (scale_activation): Sigmoid()\n",
       "          )\n",
       "          (3): Conv2dNormActivation(\n",
       "            (0): Conv2d(672, 112, kernel_size=(1, 1), stride=(1, 1), bias=False)\n",
       "            (1): BatchNorm2d(112, eps=1e-05, momentum=0.1, affine=True, track_running_stats=True)\n",
       "          )\n",
       "        )\n",
       "        (stochastic_depth): StochasticDepth(p=0.125, mode=row)\n",
       "      )\n",
       "    )\n",
       "    (6): Sequential(\n",
       "      (0): MBConv(\n",
       "        (block): Sequential(\n",
       "          (0): Conv2dNormActivation(\n",
       "            (0): Conv2d(112, 672, kernel_size=(1, 1), stride=(1, 1), bias=False)\n",
       "            (1): BatchNorm2d(672, eps=1e-05, momentum=0.1, affine=True, track_running_stats=True)\n",
       "            (2): SiLU(inplace=True)\n",
       "          )\n",
       "          (1): Conv2dNormActivation(\n",
       "            (0): Conv2d(672, 672, kernel_size=(5, 5), stride=(2, 2), padding=(2, 2), groups=672, bias=False)\n",
       "            (1): BatchNorm2d(672, eps=1e-05, momentum=0.1, affine=True, track_running_stats=True)\n",
       "            (2): SiLU(inplace=True)\n",
       "          )\n",
       "          (2): SqueezeExcitation(\n",
       "            (avgpool): AdaptiveAvgPool2d(output_size=1)\n",
       "            (fc1): Conv2d(672, 28, kernel_size=(1, 1), stride=(1, 1))\n",
       "            (fc2): Conv2d(28, 672, kernel_size=(1, 1), stride=(1, 1))\n",
       "            (activation): SiLU(inplace=True)\n",
       "            (scale_activation): Sigmoid()\n",
       "          )\n",
       "          (3): Conv2dNormActivation(\n",
       "            (0): Conv2d(672, 192, kernel_size=(1, 1), stride=(1, 1), bias=False)\n",
       "            (1): BatchNorm2d(192, eps=1e-05, momentum=0.1, affine=True, track_running_stats=True)\n",
       "          )\n",
       "        )\n",
       "        (stochastic_depth): StochasticDepth(p=0.1375, mode=row)\n",
       "      )\n",
       "      (1): MBConv(\n",
       "        (block): Sequential(\n",
       "          (0): Conv2dNormActivation(\n",
       "            (0): Conv2d(192, 1152, kernel_size=(1, 1), stride=(1, 1), bias=False)\n",
       "            (1): BatchNorm2d(1152, eps=1e-05, momentum=0.1, affine=True, track_running_stats=True)\n",
       "            (2): SiLU(inplace=True)\n",
       "          )\n",
       "          (1): Conv2dNormActivation(\n",
       "            (0): Conv2d(1152, 1152, kernel_size=(5, 5), stride=(1, 1), padding=(2, 2), groups=1152, bias=False)\n",
       "            (1): BatchNorm2d(1152, eps=1e-05, momentum=0.1, affine=True, track_running_stats=True)\n",
       "            (2): SiLU(inplace=True)\n",
       "          )\n",
       "          (2): SqueezeExcitation(\n",
       "            (avgpool): AdaptiveAvgPool2d(output_size=1)\n",
       "            (fc1): Conv2d(1152, 48, kernel_size=(1, 1), stride=(1, 1))\n",
       "            (fc2): Conv2d(48, 1152, kernel_size=(1, 1), stride=(1, 1))\n",
       "            (activation): SiLU(inplace=True)\n",
       "            (scale_activation): Sigmoid()\n",
       "          )\n",
       "          (3): Conv2dNormActivation(\n",
       "            (0): Conv2d(1152, 192, kernel_size=(1, 1), stride=(1, 1), bias=False)\n",
       "            (1): BatchNorm2d(192, eps=1e-05, momentum=0.1, affine=True, track_running_stats=True)\n",
       "          )\n",
       "        )\n",
       "        (stochastic_depth): StochasticDepth(p=0.15000000000000002, mode=row)\n",
       "      )\n",
       "      (2): MBConv(\n",
       "        (block): Sequential(\n",
       "          (0): Conv2dNormActivation(\n",
       "            (0): Conv2d(192, 1152, kernel_size=(1, 1), stride=(1, 1), bias=False)\n",
       "            (1): BatchNorm2d(1152, eps=1e-05, momentum=0.1, affine=True, track_running_stats=True)\n",
       "            (2): SiLU(inplace=True)\n",
       "          )\n",
       "          (1): Conv2dNormActivation(\n",
       "            (0): Conv2d(1152, 1152, kernel_size=(5, 5), stride=(1, 1), padding=(2, 2), groups=1152, bias=False)\n",
       "            (1): BatchNorm2d(1152, eps=1e-05, momentum=0.1, affine=True, track_running_stats=True)\n",
       "            (2): SiLU(inplace=True)\n",
       "          )\n",
       "          (2): SqueezeExcitation(\n",
       "            (avgpool): AdaptiveAvgPool2d(output_size=1)\n",
       "            (fc1): Conv2d(1152, 48, kernel_size=(1, 1), stride=(1, 1))\n",
       "            (fc2): Conv2d(48, 1152, kernel_size=(1, 1), stride=(1, 1))\n",
       "            (activation): SiLU(inplace=True)\n",
       "            (scale_activation): Sigmoid()\n",
       "          )\n",
       "          (3): Conv2dNormActivation(\n",
       "            (0): Conv2d(1152, 192, kernel_size=(1, 1), stride=(1, 1), bias=False)\n",
       "            (1): BatchNorm2d(192, eps=1e-05, momentum=0.1, affine=True, track_running_stats=True)\n",
       "          )\n",
       "        )\n",
       "        (stochastic_depth): StochasticDepth(p=0.1625, mode=row)\n",
       "      )\n",
       "      (3): MBConv(\n",
       "        (block): Sequential(\n",
       "          (0): Conv2dNormActivation(\n",
       "            (0): Conv2d(192, 1152, kernel_size=(1, 1), stride=(1, 1), bias=False)\n",
       "            (1): BatchNorm2d(1152, eps=1e-05, momentum=0.1, affine=True, track_running_stats=True)\n",
       "            (2): SiLU(inplace=True)\n",
       "          )\n",
       "          (1): Conv2dNormActivation(\n",
       "            (0): Conv2d(1152, 1152, kernel_size=(5, 5), stride=(1, 1), padding=(2, 2), groups=1152, bias=False)\n",
       "            (1): BatchNorm2d(1152, eps=1e-05, momentum=0.1, affine=True, track_running_stats=True)\n",
       "            (2): SiLU(inplace=True)\n",
       "          )\n",
       "          (2): SqueezeExcitation(\n",
       "            (avgpool): AdaptiveAvgPool2d(output_size=1)\n",
       "            (fc1): Conv2d(1152, 48, kernel_size=(1, 1), stride=(1, 1))\n",
       "            (fc2): Conv2d(48, 1152, kernel_size=(1, 1), stride=(1, 1))\n",
       "            (activation): SiLU(inplace=True)\n",
       "            (scale_activation): Sigmoid()\n",
       "          )\n",
       "          (3): Conv2dNormActivation(\n",
       "            (0): Conv2d(1152, 192, kernel_size=(1, 1), stride=(1, 1), bias=False)\n",
       "            (1): BatchNorm2d(192, eps=1e-05, momentum=0.1, affine=True, track_running_stats=True)\n",
       "          )\n",
       "        )\n",
       "        (stochastic_depth): StochasticDepth(p=0.17500000000000002, mode=row)\n",
       "      )\n",
       "    )\n",
       "    (7): Sequential(\n",
       "      (0): MBConv(\n",
       "        (block): Sequential(\n",
       "          (0): Conv2dNormActivation(\n",
       "            (0): Conv2d(192, 1152, kernel_size=(1, 1), stride=(1, 1), bias=False)\n",
       "            (1): BatchNorm2d(1152, eps=1e-05, momentum=0.1, affine=True, track_running_stats=True)\n",
       "            (2): SiLU(inplace=True)\n",
       "          )\n",
       "          (1): Conv2dNormActivation(\n",
       "            (0): Conv2d(1152, 1152, kernel_size=(3, 3), stride=(1, 1), padding=(1, 1), groups=1152, bias=False)\n",
       "            (1): BatchNorm2d(1152, eps=1e-05, momentum=0.1, affine=True, track_running_stats=True)\n",
       "            (2): SiLU(inplace=True)\n",
       "          )\n",
       "          (2): SqueezeExcitation(\n",
       "            (avgpool): AdaptiveAvgPool2d(output_size=1)\n",
       "            (fc1): Conv2d(1152, 48, kernel_size=(1, 1), stride=(1, 1))\n",
       "            (fc2): Conv2d(48, 1152, kernel_size=(1, 1), stride=(1, 1))\n",
       "            (activation): SiLU(inplace=True)\n",
       "            (scale_activation): Sigmoid()\n",
       "          )\n",
       "          (3): Conv2dNormActivation(\n",
       "            (0): Conv2d(1152, 320, kernel_size=(1, 1), stride=(1, 1), bias=False)\n",
       "            (1): BatchNorm2d(320, eps=1e-05, momentum=0.1, affine=True, track_running_stats=True)\n",
       "          )\n",
       "        )\n",
       "        (stochastic_depth): StochasticDepth(p=0.1875, mode=row)\n",
       "      )\n",
       "    )\n",
       "    (8): Conv2dNormActivation(\n",
       "      (0): Conv2d(320, 1280, kernel_size=(1, 1), stride=(1, 1), bias=False)\n",
       "      (1): BatchNorm2d(1280, eps=1e-05, momentum=0.1, affine=True, track_running_stats=True)\n",
       "      (2): SiLU(inplace=True)\n",
       "    )\n",
       "  )\n",
       "  (avgpool): AdaptiveAvgPool2d(output_size=1)\n",
       "  (classifier): Sequential(\n",
       "    (0): Dropout(p=0.2, inplace=False)\n",
       "    (1): Linear(in_features=1280, out_features=101, bias=True)\n",
       "  )\n",
       ")"
      ]
     },
     "execution_count": 7,
     "metadata": {},
     "output_type": "execute_result"
    }
   ],
   "source": [
    "ckpt = torch.load(f\"{base_dir}saved_models/food101/ckpt_best\")\n",
    "model.load_state_dict(ckpt['model_state_dict'])\n",
    "model.to(device)\n",
    "model.eval()"
   ]
  },
  {
   "cell_type": "code",
   "execution_count": 8,
   "metadata": {},
   "outputs": [
    {
     "name": "stdout",
     "output_type": "stream",
     "text": [
      "Train set: \n",
      "Top-1 Accuracy: 0.8771\n",
      "Top-5 Accuracy: 0.9776\n",
      "Classification Report:\n",
      "                         precision    recall  f1-score   support\n",
      "\n",
      "              apple_pie       0.90      0.70      0.79       750\n",
      "         baby_back_ribs       0.90      0.85      0.87       750\n",
      "                baklava       0.90      0.91      0.90       750\n",
      "         beef_carpaccio       0.85      0.92      0.88       750\n",
      "           beef_tartare       0.95      0.80      0.87       750\n",
      "             beet_salad       0.78      0.88      0.83       750\n",
      "               beignets       0.91      0.90      0.91       750\n",
      "               bibimbap       0.96      0.93      0.94       750\n",
      "          bread_pudding       0.81      0.80      0.80       750\n",
      "      breakfast_burrito       0.87      0.86      0.86       750\n",
      "             bruschetta       0.81      0.84      0.83       750\n",
      "           caesar_salad       0.92      0.88      0.90       750\n",
      "                cannoli       0.92      0.90      0.91       750\n",
      "          caprese_salad       0.94      0.85      0.89       750\n",
      "            carrot_cake       0.90      0.86      0.88       750\n",
      "                ceviche       0.82      0.82      0.82       750\n",
      "             cheesecake       0.86      0.93      0.89       750\n",
      "           cheese_plate       0.90      0.78      0.83       750\n",
      "          chicken_curry       0.84      0.87      0.86       750\n",
      "     chicken_quesadilla       0.90      0.87      0.89       750\n",
      "          chicken_wings       0.83      0.95      0.88       750\n",
      "         chocolate_cake       0.83      0.83      0.83       750\n",
      "       chocolate_mousse       0.75      0.77      0.76       750\n",
      "                churros       0.82      0.95      0.88       750\n",
      "           clam_chowder       0.92      0.90      0.91       750\n",
      "          club_sandwich       0.91      0.93      0.92       750\n",
      "             crab_cakes       0.77      0.86      0.81       750\n",
      "           creme_brulee       0.97      0.87      0.91       750\n",
      "          croque_madame       0.96      0.82      0.89       750\n",
      "              cup_cakes       0.86      0.92      0.89       750\n",
      "           deviled_eggs       0.93      0.97      0.95       750\n",
      "                 donuts       0.89      0.81      0.85       750\n",
      "              dumplings       0.95      0.87      0.91       750\n",
      "                edamame       0.97      0.99      0.98       750\n",
      "          eggs_benedict       0.85      0.95      0.90       750\n",
      "              escargots       0.90      0.95      0.92       750\n",
      "                falafel       0.89      0.87      0.88       750\n",
      "           filet_mignon       0.85      0.72      0.78       750\n",
      "         fish_and_chips       0.94      0.91      0.92       750\n",
      "              foie_gras       0.84      0.75      0.79       750\n",
      "           french_fries       0.90      0.93      0.91       750\n",
      "      french_onion_soup       0.93      0.86      0.89       750\n",
      "           french_toast       0.90      0.83      0.87       750\n",
      "         fried_calamari       0.84      0.94      0.88       750\n",
      "             fried_rice       0.87      0.90      0.89       750\n",
      "          frozen_yogurt       0.85      0.95      0.90       750\n",
      "           garlic_bread       0.95      0.76      0.84       750\n",
      "                gnocchi       0.77      0.83      0.80       750\n",
      "            greek_salad       0.85      0.92      0.89       750\n",
      "grilled_cheese_sandwich       0.88      0.82      0.85       750\n",
      "         grilled_salmon       0.94      0.75      0.83       750\n",
      "              guacamole       0.91      0.93      0.92       750\n",
      "                  gyoza       0.85      0.93      0.89       750\n",
      "              hamburger       0.80      0.92      0.85       750\n",
      "      hot_and_sour_soup       0.95      0.94      0.95       750\n",
      "                hot_dog       0.87      0.91      0.89       750\n",
      "       huevos_rancheros       0.82      0.88      0.85       750\n",
      "                 hummus       0.88      0.86      0.87       750\n",
      "              ice_cream       0.83      0.83      0.83       750\n",
      "                lasagna       0.76      0.85      0.81       750\n",
      "         lobster_bisque       0.91      0.91      0.91       750\n",
      "  lobster_roll_sandwich       0.98      0.89      0.93       750\n",
      "    macaroni_and_cheese       0.84      0.88      0.86       750\n",
      "               macarons       0.94      0.96      0.95       750\n",
      "              miso_soup       0.92      0.97      0.95       750\n",
      "                mussels       0.94      0.95      0.95       750\n",
      "                 nachos       0.83      0.93      0.88       750\n",
      "               omelette       0.93      0.75      0.83       750\n",
      "            onion_rings       0.92      0.93      0.92       750\n",
      "                oysters       0.96      0.95      0.95       750\n",
      "               pad_thai       0.91      0.93      0.92       750\n",
      "                 paella       0.91      0.91      0.91       750\n",
      "               pancakes       0.89      0.89      0.89       750\n",
      "            panna_cotta       0.92      0.76      0.83       750\n",
      "            peking_duck       0.86      0.93      0.89       750\n",
      "                    pho       0.93      0.96      0.94       750\n",
      "                  pizza       0.94      0.81      0.87       750\n",
      "              pork_chop       0.69      0.84      0.76       750\n",
      "                poutine       0.90      0.94      0.92       750\n",
      "              prime_rib       0.91      0.82      0.86       750\n",
      "   pulled_pork_sandwich       0.91      0.88      0.89       750\n",
      "                  ramen       0.91      0.91      0.91       750\n",
      "                ravioli       0.74      0.80      0.77       750\n",
      "        red_velvet_cake       0.94      0.88      0.91       750\n",
      "                risotto       0.84      0.84      0.84       750\n",
      "                 samosa       0.92      0.89      0.90       750\n",
      "                sashimi       0.92      0.94      0.93       750\n",
      "               scallops       0.76      0.86      0.81       750\n",
      "          seaweed_salad       0.88      0.98      0.92       750\n",
      "       shrimp_and_grits       0.87      0.86      0.86       750\n",
      "    spaghetti_bolognese       0.89      0.96      0.93       750\n",
      "    spaghetti_carbonara       0.96      0.94      0.95       750\n",
      "           spring_rolls       0.92      0.90      0.91       750\n",
      "                  steak       0.74      0.67      0.70       750\n",
      "   strawberry_shortcake       0.91      0.87      0.89       750\n",
      "                  sushi       0.89      0.87      0.88       750\n",
      "                  tacos       0.85      0.84      0.85       750\n",
      "               takoyaki       0.80      0.95      0.87       750\n",
      "               tiramisu       0.92      0.84      0.87       750\n",
      "           tuna_tartare       0.80      0.79      0.79       750\n",
      "                waffles       0.90      0.94      0.92       750\n",
      "\n",
      "               accuracy                           0.88     75750\n",
      "              macro avg       0.88      0.88      0.88     75750\n",
      "           weighted avg       0.88      0.88      0.88     75750\n",
      "\n"
     ]
    }
   ],
   "source": [
    "print(\"Train set: \")\n",
    "evaluate_model_with_top_k(model, train_loader, device, class_mapping.values())"
   ]
  },
  {
   "cell_type": "code",
   "execution_count": 9,
   "metadata": {},
   "outputs": [
    {
     "name": "stdout",
     "output_type": "stream",
     "text": [
      "Test set: \n",
      "Top-1 Accuracy: 0.8047\n",
      "Top-5 Accuracy: 0.9532\n",
      "Classification Report:\n",
      "                         precision    recall  f1-score   support\n",
      "\n",
      "              apple_pie       0.72      0.52      0.61       250\n",
      "         baby_back_ribs       0.88      0.70      0.78       250\n",
      "                baklava       0.84      0.90      0.87       250\n",
      "         beef_carpaccio       0.81      0.90      0.86       250\n",
      "           beef_tartare       0.80      0.69      0.74       250\n",
      "             beet_salad       0.73      0.73      0.73       250\n",
      "               beignets       0.85      0.82      0.84       250\n",
      "               bibimbap       0.93      0.91      0.92       250\n",
      "          bread_pudding       0.68      0.65      0.66       250\n",
      "      breakfast_burrito       0.77      0.68      0.72       250\n",
      "             bruschetta       0.74      0.76      0.75       250\n",
      "           caesar_salad       0.85      0.87      0.86       250\n",
      "                cannoli       0.83      0.82      0.83       250\n",
      "          caprese_salad       0.85      0.82      0.83       250\n",
      "            carrot_cake       0.78      0.81      0.79       250\n",
      "                ceviche       0.69      0.58      0.63       250\n",
      "             cheesecake       0.82      0.87      0.85       250\n",
      "           cheese_plate       0.85      0.64      0.73       250\n",
      "          chicken_curry       0.74      0.76      0.75       250\n",
      "     chicken_quesadilla       0.79      0.83      0.81       250\n",
      "          chicken_wings       0.79      0.88      0.83       250\n",
      "         chocolate_cake       0.74      0.69      0.71       250\n",
      "       chocolate_mousse       0.59      0.63      0.61       250\n",
      "                churros       0.84      0.92      0.87       250\n",
      "           clam_chowder       0.90      0.82      0.86       250\n",
      "          club_sandwich       0.85      0.86      0.86       250\n",
      "             crab_cakes       0.62      0.75      0.68       250\n",
      "           creme_brulee       0.92      0.86      0.89       250\n",
      "          croque_madame       0.92      0.78      0.84       250\n",
      "              cup_cakes       0.86      0.90      0.88       250\n",
      "           deviled_eggs       0.89      0.93      0.91       250\n",
      "                 donuts       0.85      0.79      0.82       250\n",
      "              dumplings       0.92      0.88      0.90       250\n",
      "                edamame       0.98      1.00      0.99       250\n",
      "          eggs_benedict       0.80      0.90      0.85       250\n",
      "              escargots       0.83      0.90      0.87       250\n",
      "                falafel       0.78      0.74      0.76       250\n",
      "           filet_mignon       0.73      0.58      0.65       250\n",
      "         fish_and_chips       0.84      0.88      0.86       250\n",
      "              foie_gras       0.71      0.57      0.63       250\n",
      "           french_fries       0.78      0.92      0.84       250\n",
      "      french_onion_soup       0.85      0.78      0.81       250\n",
      "           french_toast       0.80      0.73      0.76       250\n",
      "         fried_calamari       0.72      0.87      0.79       250\n",
      "             fried_rice       0.83      0.86      0.84       250\n",
      "          frozen_yogurt       0.85      0.92      0.89       250\n",
      "           garlic_bread       0.89      0.68      0.77       250\n",
      "                gnocchi       0.62      0.78      0.69       250\n",
      "            greek_salad       0.79      0.85      0.82       250\n",
      "grilled_cheese_sandwich       0.78      0.67      0.72       250\n",
      "         grilled_salmon       0.86      0.61      0.71       250\n",
      "              guacamole       0.90      0.88      0.89       250\n",
      "                  gyoza       0.81      0.84      0.83       250\n",
      "              hamburger       0.76      0.81      0.78       250\n",
      "      hot_and_sour_soup       0.93      0.90      0.91       250\n",
      "                hot_dog       0.83      0.82      0.83       250\n",
      "       huevos_rancheros       0.70      0.72      0.71       250\n",
      "                 hummus       0.80      0.76      0.78       250\n",
      "              ice_cream       0.76      0.70      0.73       250\n",
      "                lasagna       0.68      0.75      0.72       250\n",
      "         lobster_bisque       0.80      0.85      0.83       250\n",
      "  lobster_roll_sandwich       0.93      0.83      0.88       250\n",
      "    macaroni_and_cheese       0.78      0.79      0.78       250\n",
      "               macarons       0.93      0.95      0.94       250\n",
      "              miso_soup       0.88      0.93      0.90       250\n",
      "                mussels       0.95      0.89      0.92       250\n",
      "                 nachos       0.77      0.82      0.79       250\n",
      "               omelette       0.83      0.61      0.71       250\n",
      "            onion_rings       0.88      0.88      0.88       250\n",
      "                oysters       0.94      0.93      0.94       250\n",
      "               pad_thai       0.88      0.92      0.90       250\n",
      "                 paella       0.82      0.88      0.85       250\n",
      "               pancakes       0.81      0.89      0.85       250\n",
      "            panna_cotta       0.82      0.66      0.73       250\n",
      "            peking_duck       0.77      0.85      0.81       250\n",
      "                    pho       0.89      0.95      0.92       250\n",
      "                  pizza       0.91      0.82      0.86       250\n",
      "              pork_chop       0.55      0.67      0.61       250\n",
      "                poutine       0.85      0.84      0.84       250\n",
      "              prime_rib       0.90      0.84      0.87       250\n",
      "   pulled_pork_sandwich       0.82      0.80      0.81       250\n",
      "                  ramen       0.82      0.85      0.83       250\n",
      "                ravioli       0.62      0.74      0.67       250\n",
      "        red_velvet_cake       0.86      0.84      0.85       250\n",
      "                risotto       0.75      0.74      0.75       250\n",
      "                 samosa       0.86      0.75      0.80       250\n",
      "                sashimi       0.90      0.91      0.90       250\n",
      "               scallops       0.62      0.80      0.70       250\n",
      "          seaweed_salad       0.84      0.97      0.90       250\n",
      "       shrimp_and_grits       0.75      0.77      0.76       250\n",
      "    spaghetti_bolognese       0.85      0.96      0.90       250\n",
      "    spaghetti_carbonara       0.94      0.92      0.93       250\n",
      "           spring_rolls       0.85      0.80      0.83       250\n",
      "                  steak       0.53      0.56      0.55       250\n",
      "   strawberry_shortcake       0.79      0.80      0.80       250\n",
      "                  sushi       0.87      0.83      0.85       250\n",
      "                  tacos       0.73      0.79      0.76       250\n",
      "               takoyaki       0.79      0.96      0.87       250\n",
      "               tiramisu       0.82      0.75      0.78       250\n",
      "           tuna_tartare       0.66      0.69      0.68       250\n",
      "                waffles       0.84      0.90      0.86       250\n",
      "\n",
      "               accuracy                           0.80     25250\n",
      "              macro avg       0.81      0.80      0.80     25250\n",
      "           weighted avg       0.81      0.80      0.80     25250\n",
      "\n"
     ]
    }
   ],
   "source": [
    "print(\"Test set: \")\n",
    "evaluate_model_with_top_k(model, test_loader, device, class_mapping.values())"
   ]
  },
  {
   "cell_type": "code",
   "execution_count": 10,
   "metadata": {},
   "outputs": [
    {
     "data": {
      "image/png": "[encoded data removed]",
      "text/plain": [
       "<Figure size 1000x500 with 1 Axes>"
      ]
     },
     "metadata": {},
     "output_type": "display_data"
    }
   ],
   "source": [
    "history = ckpt['history']\n",
    "plot_history(history, 'loss')"
   ]
  },
  {
   "cell_type": "code",
   "execution_count": 11,
   "metadata": {},
   "outputs": [
    {
     "data": {
      "image/png": "[encoded data removed]",
      "text/plain": [
       "<Figure size 1000x500 with 1 Axes>"
      ]
     },
     "metadata": {},
     "output_type": "display_data"
    }
   ],
   "source": [
    "plot_history(history, 'accuracy')"
   ]
  },
  {
   "cell_type": "code",
   "execution_count": null,
   "metadata": {},
   "outputs": [],
   "source": []
  }
 ],
 "metadata": {
  "kernelspec": {
   "display_name": "food-classification-nES7ttkF-py3.10",
   "language": "python",
   "name": "python3"
  },
  "language_info": {
   "codemirror_mode": {
    "name": "ipython",
    "version": 3
   },
   "file_extension": ".py",
   "mimetype": "text/x-python",
   "name": "python",
   "nbconvert_exporter": "python",
   "pygments_lexer": "ipython3",
   "version": "3.10.12"
  }
 },
 "nbformat": 4,
 "nbformat_minor": 2
}
