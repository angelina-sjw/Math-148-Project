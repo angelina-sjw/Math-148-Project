{
 "cells": [
  {
   "cell_type": "code",
   "execution_count": 39,
   "metadata": {},
   "outputs": [],
   "source": [
    "import os\n",
    "import sys\n",
    "\n",
    "sys.path.append(os.path.abspath(os.path.dirname(os.path.dirname(os.path.join(os.getcwd())))))\n",
    "\n",
    "import pandas as pd\n",
    "\n",
    "import torch\n",
    "import torch.nn as nn\n",
    "import torch.optim as optim\n",
    "from torch.utils.data import DataLoader\n",
    "\n",
    "from data_utils.utils import keep_existing_photos, downsample_group\n",
    "from data_utils.dataset import (\n",
    "    PhotoLabelDataset,\n",
    "    stratified_split_dataset,\n",
    "    train_transform,\n",
    "    val_transform,\n",
    ")\n",
    "from model.resnet18 import Resnet18FineTuneModel\n",
    "from model.utils import (\n",
    "    get_device,\n",
    "    train_model_single_epoch,\n",
    "    validate_model_single_epoch,\n",
    "    save_checkpoint,\n",
    "    evaluate_on_test,\n",
    "    plot_history,\n",
    ")"
   ]
  },
  {
   "cell_type": "markdown",
   "metadata": {},
   "source": [
    "### Data preprocessing"
   ]
  },
  {
   "cell_type": "code",
   "execution_count": 4,
   "metadata": {},
   "outputs": [
    {
     "name": "stderr",
     "output_type": "stream",
     "text": [
      "Checking images: 100%|██████████| 200100/200100 [00:05<00:00, 39759.94it/s]\n"
     ]
    },
    {
     "data": {
      "text/plain": [
       "price_range\n",
       "1    88822\n",
       "2     8107\n",
       "Name: count, dtype: int64"
      ]
     },
     "execution_count": 4,
     "metadata": {},
     "output_type": "execute_result"
    }
   ],
   "source": [
    "base_dir = \"../../\"\n",
    "\n",
    "business_df = pd.read_json(f'{base_dir}data/yelp_dataset/yelp_academic_dataset_business.json', lines=True)\n",
    "photos_df = pd.read_json(f'{base_dir}data/yelp_photos/photos.json', lines=True)\n",
    "\n",
    "photo_dir = f\"{base_dir}data/yelp_photos/resized_photos\"\n",
    "photos_df = keep_existing_photos(photos_df, photo_dir)\n",
    "\n",
    "photos_df = photos_df[photos_df['label'] == 'food'].copy()\n",
    "\n",
    "categories_df = business_df[['business_id', 'attributes']].copy()\n",
    "photos_df = photos_df.merge(categories_df, on=\"business_id\", how=\"left\")\n",
    "\n",
    "photos_df = photos_df[photos_df['attributes'].notna()]\n",
    "photos_df['price_range'] = photos_df['attributes'].apply(lambda x: x.get('RestaurantsPriceRange2'))\n",
    "\n",
    "photos_df['price_range'] = photos_df['price_range'].astype(int)\n",
    "photos_df['price_range'] = photos_df['price_range'].replace({2: 1, 3: 2, 4: 2}) # Binary classification\n",
    "photos_df.price_range.value_counts()"
   ]
  },
  {
   "cell_type": "code",
   "execution_count": 5,
   "metadata": {},
   "outputs": [
    {
     "name": "stderr",
     "output_type": "stream",
     "text": [
      "/var/folders/6n/sm2tfzkn2hjd8cpfn_256ph00000gp/T/ipykernel_45534/1009235296.py:4: DeprecationWarning: DataFrameGroupBy.apply operated on the grouping columns. This behavior is deprecated, and in a future version of pandas the grouping columns will be excluded from the operation. Either pass `include_groups=False` to exclude the groupings or explicitly select the grouping columns after groupby to silence this warning.\n",
      "  food_df = photos_df.groupby('price_range', group_keys=False).apply(\n"
     ]
    }
   ],
   "source": [
    "# Downsample to get balanced dataset\n",
    "price_2_num = (photos_df.price_range == 2).sum()\n",
    "\n",
    "food_df = photos_df.groupby('price_range', group_keys=False).apply(\n",
    "    lambda x: downsample_group(x, price_2_num) if x.name in [1] else x  # Only downsample for price_range 1 and 2\n",
    ")\n",
    "\n",
    "food_df['price_range'] = food_df['price_range'] - 1"
   ]
  },
  {
   "cell_type": "code",
   "execution_count": 6,
   "metadata": {},
   "outputs": [
    {
     "data": {
      "text/plain": [
       "price_range\n",
       "0    8107\n",
       "1    8107\n",
       "Name: count, dtype: int64"
      ]
     },
     "execution_count": 6,
     "metadata": {},
     "output_type": "execute_result"
    }
   ],
   "source": [
    "food_df.price_range.value_counts()"
   ]
  },
  {
   "cell_type": "code",
   "execution_count": 27,
   "metadata": {},
   "outputs": [
    {
     "name": "stdout",
     "output_type": "stream",
     "text": [
      "Images shape: torch.Size([64, 3, 224, 224])\n",
      "Labels shape: torch.Size([64])\n"
     ]
    }
   ],
   "source": [
    "label = 'price_range'\n",
    "\n",
    "price_dataset = PhotoLabelDataset(food_df, photo_dir, label)\n",
    "labels = food_df[label].values \n",
    "train_size = 0.85\n",
    "val_size = 0.10\n",
    "\n",
    "train_dataset, val_dataset, test_dataset = stratified_split_dataset(\n",
    "    price_dataset,\n",
    "    labels,\n",
    "    train_size=train_size,\n",
    "    val_size=val_size,\n",
    "    random_state=42\n",
    ")\n",
    "\n",
    "train_dataset.transform = train_transform\n",
    "val_dataset.transform = val_transform\n",
    "test_dataset.transform = val_transform\n",
    "\n",
    "batch_size = 64\n",
    "\n",
    "train_loader = DataLoader(\n",
    "    train_dataset,\n",
    "    batch_size=batch_size,\n",
    "    shuffle=True,\n",
    ")\n",
    "\n",
    "val_loader = DataLoader(\n",
    "    val_dataset,\n",
    "    batch_size=batch_size,\n",
    "    shuffle=False,\n",
    ")\n",
    "\n",
    "test_loader = DataLoader(\n",
    "    test_dataset,\n",
    "    batch_size=batch_size,\n",
    "    shuffle=False,\n",
    ")\n",
    "\n",
    "for images, labels in train_loader:\n",
    "    print(\"Images shape:\", images.shape)  \n",
    "    print(\"Labels shape:\", labels.shape)\n",
    "    break"
   ]
  },
  {
   "cell_type": "markdown",
   "metadata": {},
   "source": [
    "### Model training"
   ]
  },
  {
   "cell_type": "code",
   "execution_count": 28,
   "metadata": {},
   "outputs": [
    {
     "name": "stderr",
     "output_type": "stream",
     "text": [
      "/Users/ericxia/Library/Caches/pypoetry/virtualenvs/food-classification-nES7ttkF-py3.10/lib/python3.10/site-packages/torchvision/models/_utils.py:208: UserWarning: The parameter 'pretrained' is deprecated since 0.13 and may be removed in the future, please use 'weights' instead.\n",
      "  warnings.warn(\n",
      "/Users/ericxia/Library/Caches/pypoetry/virtualenvs/food-classification-nES7ttkF-py3.10/lib/python3.10/site-packages/torchvision/models/_utils.py:223: UserWarning: Arguments other than a weight enum or `None` for 'weights' are deprecated since 0.13 and may be removed in the future. The current behavior is equivalent to passing `weights=ResNet18_Weights.IMAGENET1K_V1`. You can also use `weights=ResNet18_Weights.DEFAULT` to get the most up-to-date weights.\n",
      "  warnings.warn(msg)\n",
      "/Users/ericxia/Library/Caches/pypoetry/virtualenvs/food-classification-nES7ttkF-py3.10/lib/python3.10/site-packages/torch/amp/grad_scaler.py:132: UserWarning: torch.cuda.amp.GradScaler is enabled, but CUDA is not available.  Disabling.\n",
      "  warnings.warn(\n"
     ]
    }
   ],
   "source": [
    "num_classes = 2\n",
    "device = get_device()\n",
    "\n",
    "model = Resnet18FineTuneModel(num_classes=num_classes)\n",
    "model = model.to(device)\n",
    "criterion = nn.CrossEntropyLoss()\n",
    "optimizer = optim.AdamW(model.parameters(), lr=1e-3, weight_decay=1e-2)\n",
    "scaler = torch.amp.GradScaler(\"cuda\")\n",
    "grad_clip = 1\n",
    "ckpt_dir = \"checkpoints/price_2_classes\"\n",
    "\n",
    "history = {\n",
    "    \"train_loss\": [],\n",
    "    \"train_accuracy\": [],\n",
    "    \"val_loss\": [],\n",
    "    \"val_accuracy\": []\n",
    "}\n",
    "\n",
    "# Training loop\n",
    "def train_model(model, train_loader, val_loader, criterion, optimizer, device, scaler, grad_clip, history, ckpt_dir, num_epochs=10):\n",
    "    model.train()\n",
    "\n",
    "    for epoch in range(1, num_epochs+1):\n",
    "        train_loss, train_accuracy = train_model_single_epoch(\n",
    "            model, train_loader, criterion, optimizer, device, scaler, grad_clip\n",
    "        )\n",
    "        val_loss, val_accuracy = validate_model_single_epoch(model, val_loader, criterion, device)\n",
    "\n",
    "        print(\n",
    "            f\"[Epoch {epoch}/{num_epochs}]\",\n",
    "            f\"Train Loss: {train_loss:.4f} | \" f\"Train Accuracy: {train_accuracy:.4f}\",\n",
    "            f\"Val Loss: {val_loss:.4f} | \" f\"Val Accuracy: {val_accuracy:.4f}\"\n",
    "        )\n",
    "\n",
    "        history[\"train_loss\"].append(train_loss)\n",
    "        history[\"train_accuracy\"].append(train_accuracy)\n",
    "        history[\"val_loss\"].append(val_loss)\n",
    "        history[\"val_accuracy\"].append(val_accuracy)\n",
    "\n",
    "        save_checkpoint(epoch, model, optimizer, history, ckpt_dir)"
   ]
  },
  {
   "cell_type": "code",
   "execution_count": 29,
   "metadata": {},
   "outputs": [
    {
     "name": "stderr",
     "output_type": "stream",
     "text": [
      "Training: 100%|██████████| 216/216 [00:29<00:00,  7.41it/s, loss=0.285]\n"
     ]
    },
    {
     "name": "stdout",
     "output_type": "stream",
     "text": [
      "[Epoch 1/20] Train Loss: 0.5866 | Train Accuracy: 0.7088 Val Loss: 0.5753 | Val Accuracy: 0.7256\n",
      "Model checkpoint saved at checkpoints/price_2_classes/ckpt_1\n"
     ]
    },
    {
     "name": "stderr",
     "output_type": "stream",
     "text": [
      "Training: 100%|██████████| 216/216 [00:29<00:00,  7.28it/s, loss=0.805]\n"
     ]
    },
    {
     "name": "stdout",
     "output_type": "stream",
     "text": [
      "[Epoch 2/20] Train Loss: 0.4781 | Train Accuracy: 0.7730 Val Loss: 0.5716 | Val Accuracy: 0.7219\n",
      "Model checkpoint saved at checkpoints/price_2_classes/ckpt_2\n"
     ]
    },
    {
     "name": "stderr",
     "output_type": "stream",
     "text": [
      "Training: 100%|██████████| 216/216 [00:30<00:00,  7.12it/s, loss=0.38] \n"
     ]
    },
    {
     "name": "stdout",
     "output_type": "stream",
     "text": [
      "[Epoch 3/20] Train Loss: 0.3757 | Train Accuracy: 0.8331 Val Loss: 0.5509 | Val Accuracy: 0.7318\n",
      "Model checkpoint saved at checkpoints/price_2_classes/ckpt_3\n"
     ]
    },
    {
     "name": "stderr",
     "output_type": "stream",
     "text": [
      "Training: 100%|██████████| 216/216 [00:35<00:00,  6.06it/s, loss=0.277] \n"
     ]
    },
    {
     "name": "stdout",
     "output_type": "stream",
     "text": [
      "[Epoch 4/20] Train Loss: 0.2398 | Train Accuracy: 0.9052 Val Loss: 0.7280 | Val Accuracy: 0.7201\n",
      "Model checkpoint saved at checkpoints/price_2_classes/ckpt_4\n"
     ]
    },
    {
     "name": "stderr",
     "output_type": "stream",
     "text": [
      "Training: 100%|██████████| 216/216 [00:34<00:00,  6.19it/s, loss=0.329] \n"
     ]
    },
    {
     "name": "stdout",
     "output_type": "stream",
     "text": [
      "[Epoch 5/20] Train Loss: 0.1332 | Train Accuracy: 0.9509 Val Loss: 1.2403 | Val Accuracy: 0.7269\n",
      "Model checkpoint saved at checkpoints/price_2_classes/ckpt_5\n"
     ]
    },
    {
     "name": "stderr",
     "output_type": "stream",
     "text": [
      "Training: 100%|██████████| 216/216 [00:35<00:00,  6.06it/s, loss=0.224] \n"
     ]
    },
    {
     "name": "stdout",
     "output_type": "stream",
     "text": [
      "[Epoch 6/20] Train Loss: 0.0915 | Train Accuracy: 0.9657 Val Loss: 1.1077 | Val Accuracy: 0.7374\n",
      "Model checkpoint saved at checkpoints/price_2_classes/ckpt_6\n"
     ]
    },
    {
     "name": "stderr",
     "output_type": "stream",
     "text": [
      "Training: 100%|██████████| 216/216 [00:34<00:00,  6.28it/s, loss=0.0171] \n"
     ]
    },
    {
     "name": "stdout",
     "output_type": "stream",
     "text": [
      "[Epoch 7/20] Train Loss: 0.0704 | Train Accuracy: 0.9757 Val Loss: 1.4216 | Val Accuracy: 0.7072\n",
      "Model checkpoint saved at checkpoints/price_2_classes/ckpt_7\n"
     ]
    },
    {
     "name": "stderr",
     "output_type": "stream",
     "text": [
      "Training: 100%|██████████| 216/216 [00:33<00:00,  6.44it/s, loss=0.157]  \n"
     ]
    },
    {
     "name": "stdout",
     "output_type": "stream",
     "text": [
      "[Epoch 8/20] Train Loss: 0.0539 | Train Accuracy: 0.9807 Val Loss: 1.1177 | Val Accuracy: 0.7361\n",
      "Model checkpoint saved at checkpoints/price_2_classes/ckpt_8\n"
     ]
    },
    {
     "name": "stderr",
     "output_type": "stream",
     "text": [
      "Training: 100%|██████████| 216/216 [00:32<00:00,  6.58it/s, loss=0.00303]\n"
     ]
    },
    {
     "name": "stdout",
     "output_type": "stream",
     "text": [
      "[Epoch 9/20] Train Loss: 0.0472 | Train Accuracy: 0.9829 Val Loss: 1.3523 | Val Accuracy: 0.7244\n",
      "Model checkpoint saved at checkpoints/price_2_classes/ckpt_9\n"
     ]
    },
    {
     "name": "stderr",
     "output_type": "stream",
     "text": [
      "Training: 100%|██████████| 216/216 [00:33<00:00,  6.38it/s, loss=0.115]  \n"
     ]
    },
    {
     "name": "stdout",
     "output_type": "stream",
     "text": [
      "[Epoch 10/20] Train Loss: 0.0365 | Train Accuracy: 0.9865 Val Loss: 1.5500 | Val Accuracy: 0.7256\n",
      "Model checkpoint saved at checkpoints/price_2_classes/ckpt_10\n"
     ]
    },
    {
     "name": "stderr",
     "output_type": "stream",
     "text": [
      "Training: 100%|██████████| 216/216 [00:45<00:00,  4.70it/s, loss=0.0192]  \n"
     ]
    },
    {
     "name": "stdout",
     "output_type": "stream",
     "text": [
      "[Epoch 11/20] Train Loss: 0.0398 | Train Accuracy: 0.9852 Val Loss: 1.4367 | Val Accuracy: 0.7454\n",
      "Model checkpoint saved at checkpoints/price_2_classes/ckpt_11\n"
     ]
    },
    {
     "name": "stderr",
     "output_type": "stream",
     "text": [
      "Training: 100%|██████████| 216/216 [00:43<00:00,  4.98it/s, loss=0.143]   \n"
     ]
    },
    {
     "name": "stdout",
     "output_type": "stream",
     "text": [
      "[Epoch 12/20] Train Loss: 0.0368 | Train Accuracy: 0.9869 Val Loss: 1.6620 | Val Accuracy: 0.7300\n",
      "Model checkpoint saved at checkpoints/price_2_classes/ckpt_12\n"
     ]
    },
    {
     "name": "stderr",
     "output_type": "stream",
     "text": [
      "Training: 100%|██████████| 216/216 [00:43<00:00,  5.02it/s, loss=0.0412]  \n"
     ]
    },
    {
     "name": "stdout",
     "output_type": "stream",
     "text": [
      "[Epoch 13/20] Train Loss: 0.0352 | Train Accuracy: 0.9876 Val Loss: 1.6064 | Val Accuracy: 0.7096\n",
      "Model checkpoint saved at checkpoints/price_2_classes/ckpt_13\n"
     ]
    },
    {
     "name": "stderr",
     "output_type": "stream",
     "text": [
      "Training: 100%|██████████| 216/216 [00:45<00:00,  4.79it/s, loss=0.541]   \n"
     ]
    },
    {
     "name": "stdout",
     "output_type": "stream",
     "text": [
      "[Epoch 14/20] Train Loss: 0.0327 | Train Accuracy: 0.9893 Val Loss: 1.3892 | Val Accuracy: 0.7330\n",
      "Model checkpoint saved at checkpoints/price_2_classes/ckpt_14\n"
     ]
    },
    {
     "name": "stderr",
     "output_type": "stream",
     "text": [
      "Training: 100%|██████████| 216/216 [00:45<00:00,  4.78it/s, loss=0.000196]\n"
     ]
    },
    {
     "name": "stdout",
     "output_type": "stream",
     "text": [
      "[Epoch 15/20] Train Loss: 0.0275 | Train Accuracy: 0.9900 Val Loss: 1.7872 | Val Accuracy: 0.7182\n",
      "Model checkpoint saved at checkpoints/price_2_classes/ckpt_15\n"
     ]
    },
    {
     "name": "stderr",
     "output_type": "stream",
     "text": [
      "Training: 100%|██████████| 216/216 [00:43<00:00,  4.97it/s, loss=0.121]   \n"
     ]
    },
    {
     "name": "stdout",
     "output_type": "stream",
     "text": [
      "[Epoch 16/20] Train Loss: 0.0292 | Train Accuracy: 0.9891 Val Loss: 1.6064 | Val Accuracy: 0.7374\n",
      "Model checkpoint saved at checkpoints/price_2_classes/ckpt_16\n"
     ]
    },
    {
     "name": "stderr",
     "output_type": "stream",
     "text": [
      "Training: 100%|██████████| 216/216 [00:37<00:00,  5.70it/s, loss=0.257]   \n"
     ]
    },
    {
     "name": "stdout",
     "output_type": "stream",
     "text": [
      "[Epoch 17/20] Train Loss: 0.0326 | Train Accuracy: 0.9875 Val Loss: 1.5483 | Val Accuracy: 0.7398\n",
      "Model checkpoint saved at checkpoints/price_2_classes/ckpt_17\n"
     ]
    },
    {
     "name": "stderr",
     "output_type": "stream",
     "text": [
      "Training: 100%|██████████| 216/216 [00:31<00:00,  6.85it/s, loss=0.00288] \n"
     ]
    },
    {
     "name": "stdout",
     "output_type": "stream",
     "text": [
      "[Epoch 18/20] Train Loss: 0.0296 | Train Accuracy: 0.9879 Val Loss: 1.5398 | Val Accuracy: 0.7244\n",
      "Model checkpoint saved at checkpoints/price_2_classes/ckpt_18\n"
     ]
    },
    {
     "name": "stderr",
     "output_type": "stream",
     "text": [
      "Training: 100%|██████████| 216/216 [00:33<00:00,  6.53it/s, loss=0.00206] \n"
     ]
    },
    {
     "name": "stdout",
     "output_type": "stream",
     "text": [
      "[Epoch 19/20] Train Loss: 0.0253 | Train Accuracy: 0.9903 Val Loss: 1.7409 | Val Accuracy: 0.7324\n",
      "Model checkpoint saved at checkpoints/price_2_classes/ckpt_19\n"
     ]
    },
    {
     "name": "stderr",
     "output_type": "stream",
     "text": [
      "Training: 100%|██████████| 216/216 [00:30<00:00,  7.11it/s, loss=0.183]   \n"
     ]
    },
    {
     "name": "stdout",
     "output_type": "stream",
     "text": [
      "[Epoch 20/20] Train Loss: 0.0209 | Train Accuracy: 0.9922 Val Loss: 1.9276 | Val Accuracy: 0.7059\n",
      "Model checkpoint saved at checkpoints/price_2_classes/ckpt_20\n"
     ]
    }
   ],
   "source": [
    "num_epochs = 20\n",
    "train_model(model, train_loader, val_loader, criterion, optimizer, device, scaler, grad_clip, history, ckpt_dir, num_epochs=num_epochs)"
   ]
  },
  {
   "cell_type": "markdown",
   "metadata": {},
   "source": [
    "### Model evaluation"
   ]
  },
  {
   "cell_type": "code",
   "execution_count": 37,
   "metadata": {},
   "outputs": [
    {
     "name": "stderr",
     "output_type": "stream",
     "text": [
      "/Users/ericxia/Library/Caches/pypoetry/virtualenvs/food-classification-nES7ttkF-py3.10/lib/python3.10/site-packages/torchvision/models/_utils.py:208: UserWarning: The parameter 'pretrained' is deprecated since 0.13 and may be removed in the future, please use 'weights' instead.\n",
      "  warnings.warn(\n",
      "/Users/ericxia/Library/Caches/pypoetry/virtualenvs/food-classification-nES7ttkF-py3.10/lib/python3.10/site-packages/torchvision/models/_utils.py:223: UserWarning: Arguments other than a weight enum or `None` for 'weights' are deprecated since 0.13 and may be removed in the future. The current behavior is equivalent to passing `weights=ResNet18_Weights.IMAGENET1K_V1`. You can also use `weights=ResNet18_Weights.DEFAULT` to get the most up-to-date weights.\n",
      "  warnings.warn(msg)\n"
     ]
    },
    {
     "data": {
      "text/plain": [
       "Resnet18FineTuneModel(\n",
       "  (base): ResNet(\n",
       "    (conv1): Conv2d(3, 64, kernel_size=(7, 7), stride=(2, 2), padding=(3, 3), bias=False)\n",
       "    (bn1): BatchNorm2d(64, eps=1e-05, momentum=0.1, affine=True, track_running_stats=True)\n",
       "    (relu): ReLU(inplace=True)\n",
       "    (maxpool): MaxPool2d(kernel_size=3, stride=2, padding=1, dilation=1, ceil_mode=False)\n",
       "    (layer1): Sequential(\n",
       "      (0): BasicBlock(\n",
       "        (conv1): Conv2d(64, 64, kernel_size=(3, 3), stride=(1, 1), padding=(1, 1), bias=False)\n",
       "        (bn1): BatchNorm2d(64, eps=1e-05, momentum=0.1, affine=True, track_running_stats=True)\n",
       "        (relu): ReLU(inplace=True)\n",
       "        (conv2): Conv2d(64, 64, kernel_size=(3, 3), stride=(1, 1), padding=(1, 1), bias=False)\n",
       "        (bn2): BatchNorm2d(64, eps=1e-05, momentum=0.1, affine=True, track_running_stats=True)\n",
       "      )\n",
       "      (1): BasicBlock(\n",
       "        (conv1): Conv2d(64, 64, kernel_size=(3, 3), stride=(1, 1), padding=(1, 1), bias=False)\n",
       "        (bn1): BatchNorm2d(64, eps=1e-05, momentum=0.1, affine=True, track_running_stats=True)\n",
       "        (relu): ReLU(inplace=True)\n",
       "        (conv2): Conv2d(64, 64, kernel_size=(3, 3), stride=(1, 1), padding=(1, 1), bias=False)\n",
       "        (bn2): BatchNorm2d(64, eps=1e-05, momentum=0.1, affine=True, track_running_stats=True)\n",
       "      )\n",
       "    )\n",
       "    (layer2): Sequential(\n",
       "      (0): BasicBlock(\n",
       "        (conv1): Conv2d(64, 128, kernel_size=(3, 3), stride=(2, 2), padding=(1, 1), bias=False)\n",
       "        (bn1): BatchNorm2d(128, eps=1e-05, momentum=0.1, affine=True, track_running_stats=True)\n",
       "        (relu): ReLU(inplace=True)\n",
       "        (conv2): Conv2d(128, 128, kernel_size=(3, 3), stride=(1, 1), padding=(1, 1), bias=False)\n",
       "        (bn2): BatchNorm2d(128, eps=1e-05, momentum=0.1, affine=True, track_running_stats=True)\n",
       "        (downsample): Sequential(\n",
       "          (0): Conv2d(64, 128, kernel_size=(1, 1), stride=(2, 2), bias=False)\n",
       "          (1): BatchNorm2d(128, eps=1e-05, momentum=0.1, affine=True, track_running_stats=True)\n",
       "        )\n",
       "      )\n",
       "      (1): BasicBlock(\n",
       "        (conv1): Conv2d(128, 128, kernel_size=(3, 3), stride=(1, 1), padding=(1, 1), bias=False)\n",
       "        (bn1): BatchNorm2d(128, eps=1e-05, momentum=0.1, affine=True, track_running_stats=True)\n",
       "        (relu): ReLU(inplace=True)\n",
       "        (conv2): Conv2d(128, 128, kernel_size=(3, 3), stride=(1, 1), padding=(1, 1), bias=False)\n",
       "        (bn2): BatchNorm2d(128, eps=1e-05, momentum=0.1, affine=True, track_running_stats=True)\n",
       "      )\n",
       "    )\n",
       "    (layer3): Sequential(\n",
       "      (0): BasicBlock(\n",
       "        (conv1): Conv2d(128, 256, kernel_size=(3, 3), stride=(2, 2), padding=(1, 1), bias=False)\n",
       "        (bn1): BatchNorm2d(256, eps=1e-05, momentum=0.1, affine=True, track_running_stats=True)\n",
       "        (relu): ReLU(inplace=True)\n",
       "        (conv2): Conv2d(256, 256, kernel_size=(3, 3), stride=(1, 1), padding=(1, 1), bias=False)\n",
       "        (bn2): BatchNorm2d(256, eps=1e-05, momentum=0.1, affine=True, track_running_stats=True)\n",
       "        (downsample): Sequential(\n",
       "          (0): Conv2d(128, 256, kernel_size=(1, 1), stride=(2, 2), bias=False)\n",
       "          (1): BatchNorm2d(256, eps=1e-05, momentum=0.1, affine=True, track_running_stats=True)\n",
       "        )\n",
       "      )\n",
       "      (1): BasicBlock(\n",
       "        (conv1): Conv2d(256, 256, kernel_size=(3, 3), stride=(1, 1), padding=(1, 1), bias=False)\n",
       "        (bn1): BatchNorm2d(256, eps=1e-05, momentum=0.1, affine=True, track_running_stats=True)\n",
       "        (relu): ReLU(inplace=True)\n",
       "        (conv2): Conv2d(256, 256, kernel_size=(3, 3), stride=(1, 1), padding=(1, 1), bias=False)\n",
       "        (bn2): BatchNorm2d(256, eps=1e-05, momentum=0.1, affine=True, track_running_stats=True)\n",
       "      )\n",
       "    )\n",
       "    (layer4): Sequential(\n",
       "      (0): BasicBlock(\n",
       "        (conv1): Conv2d(256, 512, kernel_size=(3, 3), stride=(2, 2), padding=(1, 1), bias=False)\n",
       "        (bn1): BatchNorm2d(512, eps=1e-05, momentum=0.1, affine=True, track_running_stats=True)\n",
       "        (relu): ReLU(inplace=True)\n",
       "        (conv2): Conv2d(512, 512, kernel_size=(3, 3), stride=(1, 1), padding=(1, 1), bias=False)\n",
       "        (bn2): BatchNorm2d(512, eps=1e-05, momentum=0.1, affine=True, track_running_stats=True)\n",
       "        (downsample): Sequential(\n",
       "          (0): Conv2d(256, 512, kernel_size=(1, 1), stride=(2, 2), bias=False)\n",
       "          (1): BatchNorm2d(512, eps=1e-05, momentum=0.1, affine=True, track_running_stats=True)\n",
       "        )\n",
       "      )\n",
       "      (1): BasicBlock(\n",
       "        (conv1): Conv2d(512, 512, kernel_size=(3, 3), stride=(1, 1), padding=(1, 1), bias=False)\n",
       "        (bn1): BatchNorm2d(512, eps=1e-05, momentum=0.1, affine=True, track_running_stats=True)\n",
       "        (relu): ReLU(inplace=True)\n",
       "        (conv2): Conv2d(512, 512, kernel_size=(3, 3), stride=(1, 1), padding=(1, 1), bias=False)\n",
       "        (bn2): BatchNorm2d(512, eps=1e-05, momentum=0.1, affine=True, track_running_stats=True)\n",
       "      )\n",
       "    )\n",
       "    (avgpool): AdaptiveAvgPool2d(output_size=(1, 1))\n",
       "    (fc): Sequential(\n",
       "      (0): BatchNorm1d(512, eps=1e-05, momentum=0.1, affine=True, track_running_stats=True)\n",
       "      (1): Dropout(p=0.5, inplace=False)\n",
       "      (2): Linear(in_features=512, out_features=2, bias=True)\n",
       "    )\n",
       "  )\n",
       ")"
      ]
     },
     "execution_count": 37,
     "metadata": {},
     "output_type": "execute_result"
    }
   ],
   "source": [
    "ckpt = torch.load(f\"{base_dir}saved_models/price_binary/ckpt_20\")\n",
    "model = Resnet18FineTuneModel(num_classes=num_classes)\n",
    "model.load_state_dict(ckpt['model_state_dict'])\n",
    "model.to(device)\n",
    "model.eval()"
   ]
  },
  {
   "cell_type": "code",
   "execution_count": 38,
   "metadata": {},
   "outputs": [
    {
     "name": "stdout",
     "output_type": "stream",
     "text": [
      "Classification Report on Test Set:\n",
      "              precision    recall  f1-score   support\n",
      "\n",
      "           0       0.71      0.82      0.76       406\n",
      "           1       0.78      0.67      0.72       405\n",
      "\n",
      "    accuracy                           0.74       811\n",
      "   macro avg       0.75      0.74      0.74       811\n",
      "weighted avg       0.75      0.74      0.74       811\n",
      "\n"
     ]
    }
   ],
   "source": [
    "classification_report = evaluate_on_test(model, test_loader, device, ['0', '1'])"
   ]
  },
  {
   "cell_type": "code",
   "execution_count": 35,
   "metadata": {},
   "outputs": [
    {
     "data": {
      "image/png": "[encoded data removed]",
      "text/plain": [
       "<Figure size 1000x500 with 1 Axes>"
      ]
     },
     "metadata": {},
     "output_type": "display_data"
    }
   ],
   "source": [
    "ckpt_last = torch.load(f\"{base_dir}saved_models/price_binary/ckpt_20\")\n",
    "history = ckpt_last['history']\n",
    "plot_history(history, 'loss')"
   ]
  },
  {
   "cell_type": "code",
   "execution_count": 36,
   "metadata": {},
   "outputs": [
    {
     "data": {
      "image/png": "[encoded data removed]",
      "text/plain": [
       "<Figure size 1000x500 with 1 Axes>"
      ]
     },
     "metadata": {},
     "output_type": "display_data"
    }
   ],
   "source": [
    "plot_history(history, 'accuracy')"
   ]
  },
  {
   "cell_type": "code",
   "execution_count": null,
   "metadata": {},
   "outputs": [],
   "source": []
  }
 ],
 "metadata": {
  "kernelspec": {
   "display_name": "food-classification-nES7ttkF-py3.10",
   "language": "python",
   "name": "python3"
  },
  "language_info": {
   "codemirror_mode": {
    "name": "ipython",
    "version": 3
   },
   "file_extension": ".py",
   "mimetype": "text/x-python",
   "name": "python",
   "nbconvert_exporter": "python",
   "pygments_lexer": "ipython3",
   "version": "3.10.12"
  }
 },
 "nbformat": 4,
 "nbformat_minor": 2
}
