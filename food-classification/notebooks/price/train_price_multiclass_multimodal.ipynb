{
 "cells": [
  {
   "cell_type": "code",
   "execution_count": 1,
   "metadata": {},
   "outputs": [
    {
     "name": "stderr",
     "output_type": "stream",
     "text": [
      "/Users/ericxia/Library/Caches/pypoetry/virtualenvs/food-classification-nES7ttkF-py3.10/lib/python3.10/site-packages/tqdm/auto.py:21: TqdmWarning: IProgress not found. Please update jupyter and ipywidgets. See https://ipywidgets.readthedocs.io/en/stable/user_install.html\n",
      "  from .autonotebook import tqdm as notebook_tqdm\n"
     ]
    }
   ],
   "source": [
    "import os\n",
    "import sys\n",
    "\n",
    "sys.path.append(os.path.abspath(os.path.dirname(os.path.dirname(os.path.join(os.getcwd())))))\n",
    "\n",
    "import json\n",
    "import pandas as pd\n",
    "\n",
    "import torch\n",
    "import torch.nn as nn\n",
    "import torch.optim as optim\n",
    "from torch.utils.data import DataLoader\n",
    "\n",
    "from data_utils.utils import keep_existing_photos, downsample_group\n",
    "from data_utils.dataset import MultimodalDataset, train_transform, val_transform\n",
    "from model.fusion_model import FusionModel\n",
    "from model.utils import (\n",
    "    get_device,\n",
    "    train_model_single_epoch_multimodal,\n",
    "    validate_model_single_epoch_multimodal,\n",
    "    save_checkpoint,\n",
    "    evaluate_model_multimodal,\n",
    "    plot_history,\n",
    ")"
   ]
  },
  {
   "cell_type": "markdown",
   "metadata": {},
   "source": [
    "### Data preprocessing"
   ]
  },
  {
   "cell_type": "code",
   "execution_count": 2,
   "metadata": {},
   "outputs": [
    {
     "name": "stderr",
     "output_type": "stream",
     "text": [
      "Checking images: 100%|██████████| 200100/200100 [00:05<00:00, 37722.64it/s]\n"
     ]
    },
    {
     "data": {
      "text/plain": [
       "price_range\n",
       "2    63103\n",
       "1    25719\n",
       "3     8107\n",
       "Name: count, dtype: int64"
      ]
     },
     "execution_count": 2,
     "metadata": {},
     "output_type": "execute_result"
    }
   ],
   "source": [
    "base_dir = \"../../\"\n",
    "\n",
    "business_df = pd.read_json(f'{base_dir}data/yelp_dataset/yelp_academic_dataset_business.json', lines=True)\n",
    "photos_df = pd.read_json(f'{base_dir}data/yelp_photos/photos.json', lines=True)\n",
    "top_reviews_per_restaurant = pd.read_csv(f'{base_dir}data/yelp_dataset/top_reviews_per_restaurant_with_summary.csv')\n",
    "\n",
    "photo_dir = f\"{base_dir}data/yelp_photos/resized_photos\"\n",
    "photos_df = keep_existing_photos(photos_df, photo_dir)\n",
    "\n",
    "photos_df = photos_df[photos_df['label'] == 'food'].copy()\n",
    "\n",
    "categories_df = business_df[['business_id', 'attributes']].copy()\n",
    "photos_df = photos_df.merge(categories_df, on=\"business_id\", how=\"left\")\n",
    "\n",
    "photos_df = photos_df[photos_df['attributes'].notna()]\n",
    "photos_df['price_range'] = photos_df['attributes'].apply(lambda x: x.get('RestaurantsPriceRange2'))\n",
    "\n",
    "photos_df['price_range'] = photos_df['price_range'].astype(int)\n",
    "photos_df['price_range'] = photos_df['price_range'].replace(4, 3)\n",
    "\n",
    "food_with_reviews_df = photos_df.merge(top_reviews_per_restaurant, on=\"business_id\", how=\"left\")\n",
    "food_with_reviews_df.price_range.value_counts()"
   ]
  },
  {
   "cell_type": "code",
   "execution_count": 3,
   "metadata": {},
   "outputs": [
    {
     "data": {
      "text/plain": [
       "96929"
      ]
     },
     "execution_count": 3,
     "metadata": {},
     "output_type": "execute_result"
    }
   ],
   "source": [
    "len(food_with_reviews_df)"
   ]
  },
  {
   "cell_type": "code",
   "execution_count": 4,
   "metadata": {},
   "outputs": [
    {
     "name": "stderr",
     "output_type": "stream",
     "text": [
      "/var/folders/6n/sm2tfzkn2hjd8cpfn_256ph00000gp/T/ipykernel_30434/3162148630.py:3: DeprecationWarning: DataFrameGroupBy.apply operated on the grouping columns. This behavior is deprecated, and in a future version of pandas the grouping columns will be excluded from the operation. Either pass `include_groups=False` to exclude the groupings or explicitly select the grouping columns after groupby to silence this warning.\n",
      "  food_df = food_with_reviews_df.groupby('price_range', group_keys=False).apply(\n"
     ]
    }
   ],
   "source": [
    "price_3_num = (photos_df.price_range == 3).sum()\n",
    "\n",
    "food_df = food_with_reviews_df.groupby('price_range', group_keys=False).apply(\n",
    "    lambda x: downsample_group(x, price_3_num) if x.name in [1, 2] else x  # Only downsample for price_range 1 and 2\n",
    ")\n",
    "\n",
    "food_df['price_range'] = food_df['price_range'] - 1"
   ]
  },
  {
   "cell_type": "code",
   "execution_count": 5,
   "metadata": {},
   "outputs": [],
   "source": [
    "with open(f'{base_dir}data/multimodal_split_ids.json') as f:\n",
    "    ids_dict = json.load(f)\n",
    "\n",
    "train_ids = ids_dict['train_ids']\n",
    "val_ids = ids_dict['val_ids']\n",
    "test_ids = ids_dict['test_ids']\n",
    "\n",
    "train_df = food_df[food_df.business_id.isin(train_ids)]\n",
    "val_df = food_df[food_df.business_id.isin(val_ids)]\n",
    "test_df = food_df[food_df.business_id.isin(test_ids)]"
   ]
  },
  {
   "cell_type": "code",
   "execution_count": 6,
   "metadata": {},
   "outputs": [
    {
     "name": "stdout",
     "output_type": "stream",
     "text": [
      "Images shape: torch.Size([64, 3, 224, 224])\n",
      "Input_ids shape: torch.Size([64, 128])\n",
      "Labels shape: torch.Size([64])\n"
     ]
    }
   ],
   "source": [
    "label = 'price_range'\n",
    "\n",
    "train_dataset = MultimodalDataset(train_df, photo_dir, label)\n",
    "val_dataset = MultimodalDataset(val_df, photo_dir, label)\n",
    "test_dataset = MultimodalDataset(test_df, photo_dir, label)\n",
    "\n",
    "train_dataset.transform = train_transform\n",
    "val_dataset.transform = val_transform\n",
    "test_dataset.transform = val_transform\n",
    "\n",
    "batch_size = 64\n",
    "\n",
    "train_loader = DataLoader(\n",
    "    train_dataset,\n",
    "    batch_size=batch_size,\n",
    "    shuffle=True,\n",
    ")\n",
    "\n",
    "val_loader = DataLoader(\n",
    "    val_dataset,\n",
    "    batch_size=batch_size,\n",
    "    shuffle=False,\n",
    ")\n",
    "\n",
    "test_loader = DataLoader(\n",
    "    test_dataset,\n",
    "    batch_size=batch_size,\n",
    "    shuffle=False,\n",
    ")\n",
    "\n",
    "for batch in train_loader:\n",
    "    print(\"Images shape:\", batch['image'].shape)  \n",
    "    print(\"Input_ids shape:\", batch['input_ids'].shape)\n",
    "    print(\"Labels shape:\", batch['label'].shape)\n",
    "    break"
   ]
  },
  {
   "cell_type": "markdown",
   "metadata": {},
   "source": [
    "### Model training"
   ]
  },
  {
   "cell_type": "code",
   "execution_count": 7,
   "metadata": {},
   "outputs": [
    {
     "name": "stderr",
     "output_type": "stream",
     "text": [
      "/Users/ericxia/Library/Caches/pypoetry/virtualenvs/food-classification-nES7ttkF-py3.10/lib/python3.10/site-packages/torchvision/models/_utils.py:208: UserWarning: The parameter 'pretrained' is deprecated since 0.13 and may be removed in the future, please use 'weights' instead.\n",
      "  warnings.warn(\n",
      "/Users/ericxia/Library/Caches/pypoetry/virtualenvs/food-classification-nES7ttkF-py3.10/lib/python3.10/site-packages/torchvision/models/_utils.py:223: UserWarning: Arguments other than a weight enum or `None` for 'weights' are deprecated since 0.13 and may be removed in the future. The current behavior is equivalent to passing `weights=ResNet18_Weights.IMAGENET1K_V1`. You can also use `weights=ResNet18_Weights.DEFAULT` to get the most up-to-date weights.\n",
      "  warnings.warn(msg)\n",
      "/Users/ericxia/Library/Caches/pypoetry/virtualenvs/food-classification-nES7ttkF-py3.10/lib/python3.10/site-packages/torch/amp/grad_scaler.py:132: UserWarning: torch.cuda.amp.GradScaler is enabled, but CUDA is not available.  Disabling.\n",
      "  warnings.warn(\n"
     ]
    }
   ],
   "source": [
    "num_classes = 3\n",
    "device = get_device()\n",
    "\n",
    "model = FusionModel(num_classes=num_classes)\n",
    "model = model.to(device)\n",
    "criterion = nn.CrossEntropyLoss()\n",
    "optimizer = optim.AdamW(model.parameters(), lr=1e-3, weight_decay=1e-3)\n",
    "scaler = torch.amp.GradScaler(\"cuda\")\n",
    "grad_clip = 1\n",
    "ckpt_dir = \"checkpoints/price_model_multimodal_multiclass_unique_restaurants_duplicate_photos\"\n",
    "\n",
    "history = {\n",
    "    \"train_loss\": [],\n",
    "    \"train_accuracy\": [],\n",
    "    \"val_loss\": [],\n",
    "    \"val_accuracy\": []\n",
    "}\n",
    "\n",
    "# Training loop\n",
    "def train_model(model, train_loader, val_loader, criterion, optimizer, device, scaler, grad_clip, history, ckpt_dir, num_epochs=10):\n",
    "    model.train()\n",
    "\n",
    "    for epoch in range(1, num_epochs+1):\n",
    "        train_loss, train_accuracy = train_model_single_epoch_multimodal(\n",
    "            model, train_loader, criterion, optimizer, device, scaler, grad_clip\n",
    "        )\n",
    "        val_loss, val_accuracy = validate_model_single_epoch_multimodal(model, val_loader, criterion, device)\n",
    "\n",
    "        print(\n",
    "            f\"[Epoch {epoch}/{num_epochs}]\",\n",
    "            f\"Train Loss: {train_loss:.4f} | \" f\"Train Accuracy: {train_accuracy:.4f}\",\n",
    "            f\"Val Loss: {val_loss:.4f} | \" f\"Val Accuracy: {val_accuracy:.4f}\"\n",
    "        )\n",
    "\n",
    "        history[\"train_loss\"].append(train_loss)\n",
    "        history[\"train_accuracy\"].append(train_accuracy)\n",
    "        history[\"val_loss\"].append(val_loss)\n",
    "        history[\"val_accuracy\"].append(val_accuracy)\n",
    "\n",
    "        save_checkpoint(epoch, model, optimizer, history, ckpt_dir)"
   ]
  },
  {
   "cell_type": "code",
   "execution_count": 25,
   "metadata": {},
   "outputs": [
    {
     "name": "stderr",
     "output_type": "stream",
     "text": [
      "Training: 100%|██████████| 345/345 [04:30<00:00,  1.28it/s, loss=0.847]\n"
     ]
    },
    {
     "name": "stdout",
     "output_type": "stream",
     "text": [
      "[Epoch 1/20] Train Loss: 0.9264 | Train Accuracy: 0.5405 Val Loss: 0.8274 | Val Accuracy: 0.5945\n",
      "Model checkpoint saved at checkpoints/price_model_multimodal_multiclass_unique_restaurants_duplicate_photos/ckpt_1\n"
     ]
    },
    {
     "name": "stderr",
     "output_type": "stream",
     "text": [
      "Training: 100%|██████████| 345/345 [04:26<00:00,  1.29it/s, loss=0.821]\n"
     ]
    },
    {
     "name": "stdout",
     "output_type": "stream",
     "text": [
      "[Epoch 2/20] Train Loss: 0.8510 | Train Accuracy: 0.5950 Val Loss: 0.7712 | Val Accuracy: 0.6424\n",
      "Model checkpoint saved at checkpoints/price_model_multimodal_multiclass_unique_restaurants_duplicate_photos/ckpt_2\n"
     ]
    },
    {
     "name": "stderr",
     "output_type": "stream",
     "text": [
      "Training: 100%|██████████| 345/345 [10:29<00:00,  1.83s/it, loss=0.919]\n"
     ]
    },
    {
     "name": "stdout",
     "output_type": "stream",
     "text": [
      "[Epoch 3/20] Train Loss: 0.8239 | Train Accuracy: 0.6098 Val Loss: 0.7825 | Val Accuracy: 0.6175\n",
      "Model checkpoint saved at checkpoints/price_model_multimodal_multiclass_unique_restaurants_duplicate_photos/ckpt_3\n"
     ]
    },
    {
     "name": "stderr",
     "output_type": "stream",
     "text": [
      "Training: 100%|██████████| 345/345 [09:02<00:00,  1.57s/it, loss=0.877]\n"
     ]
    },
    {
     "name": "stdout",
     "output_type": "stream",
     "text": [
      "[Epoch 4/20] Train Loss: 0.8130 | Train Accuracy: 0.6158 Val Loss: 0.8286 | Val Accuracy: 0.5982\n",
      "Model checkpoint saved at checkpoints/price_model_multimodal_multiclass_unique_restaurants_duplicate_photos/ckpt_4\n"
     ]
    },
    {
     "name": "stderr",
     "output_type": "stream",
     "text": [
      "Training: 100%|██████████| 345/345 [09:06<00:00,  1.58s/it, loss=0.769]\n"
     ]
    },
    {
     "name": "stdout",
     "output_type": "stream",
     "text": [
      "[Epoch 5/20] Train Loss: 0.8064 | Train Accuracy: 0.6239 Val Loss: 0.7667 | Val Accuracy: 0.6286\n",
      "Model checkpoint saved at checkpoints/price_model_multimodal_multiclass_unique_restaurants_duplicate_photos/ckpt_5\n"
     ]
    },
    {
     "name": "stderr",
     "output_type": "stream",
     "text": [
      "Training: 100%|██████████| 345/345 [08:50<00:00,  1.54s/it, loss=0.824]\n"
     ]
    },
    {
     "name": "stdout",
     "output_type": "stream",
     "text": [
      "[Epoch 6/20] Train Loss: 0.7901 | Train Accuracy: 0.6304 Val Loss: 0.8092 | Val Accuracy: 0.5972\n",
      "Model checkpoint saved at checkpoints/price_model_multimodal_multiclass_unique_restaurants_duplicate_photos/ckpt_6\n"
     ]
    },
    {
     "name": "stderr",
     "output_type": "stream",
     "text": [
      "Training: 100%|██████████| 345/345 [07:55<00:00,  1.38s/it, loss=0.784]\n"
     ]
    },
    {
     "name": "stdout",
     "output_type": "stream",
     "text": [
      "[Epoch 7/20] Train Loss: 0.7849 | Train Accuracy: 0.6303 Val Loss: 0.8527 | Val Accuracy: 0.5982\n",
      "Model checkpoint saved at checkpoints/price_model_multimodal_multiclass_unique_restaurants_duplicate_photos/ckpt_7\n"
     ]
    },
    {
     "name": "stderr",
     "output_type": "stream",
     "text": [
      "Training: 100%|██████████| 345/345 [04:47<00:00,  1.20it/s, loss=0.886]\n"
     ]
    },
    {
     "name": "stdout",
     "output_type": "stream",
     "text": [
      "[Epoch 8/20] Train Loss: 0.7885 | Train Accuracy: 0.6326 Val Loss: 0.7959 | Val Accuracy: 0.6221\n",
      "Model checkpoint saved at checkpoints/price_model_multimodal_multiclass_unique_restaurants_duplicate_photos/ckpt_8\n"
     ]
    },
    {
     "name": "stderr",
     "output_type": "stream",
     "text": [
      "Training: 100%|██████████| 345/345 [08:49<00:00,  1.53s/it, loss=0.835]\n"
     ]
    },
    {
     "name": "stdout",
     "output_type": "stream",
     "text": [
      "[Epoch 9/20] Train Loss: 0.7790 | Train Accuracy: 0.6377 Val Loss: 0.8430 | Val Accuracy: 0.6129\n",
      "Model checkpoint saved at checkpoints/price_model_multimodal_multiclass_unique_restaurants_duplicate_photos/ckpt_9\n"
     ]
    },
    {
     "name": "stderr",
     "output_type": "stream",
     "text": [
      "Training: 100%|██████████| 345/345 [09:02<00:00,  1.57s/it, loss=0.905]\n"
     ]
    },
    {
     "name": "stdout",
     "output_type": "stream",
     "text": [
      "[Epoch 10/20] Train Loss: 0.7725 | Train Accuracy: 0.6409 Val Loss: 0.8342 | Val Accuracy: 0.6120\n",
      "Model checkpoint saved at checkpoints/price_model_multimodal_multiclass_unique_restaurants_duplicate_photos/ckpt_10\n"
     ]
    },
    {
     "name": "stderr",
     "output_type": "stream",
     "text": [
      "Training: 100%|██████████| 345/345 [09:03<00:00,  1.57s/it, loss=0.994]\n"
     ]
    },
    {
     "name": "stdout",
     "output_type": "stream",
     "text": [
      "[Epoch 11/20] Train Loss: 0.7693 | Train Accuracy: 0.6424 Val Loss: 0.8690 | Val Accuracy: 0.5816\n",
      "Model checkpoint saved at checkpoints/price_model_multimodal_multiclass_unique_restaurants_duplicate_photos/ckpt_11\n"
     ]
    },
    {
     "name": "stderr",
     "output_type": "stream",
     "text": [
      "Training: 100%|██████████| 345/345 [08:40<00:00,  1.51s/it, loss=0.865]\n"
     ]
    },
    {
     "name": "stdout",
     "output_type": "stream",
     "text": [
      "[Epoch 12/20] Train Loss: 0.7606 | Train Accuracy: 0.6481 Val Loss: 0.8841 | Val Accuracy: 0.5862\n",
      "Model checkpoint saved at checkpoints/price_model_multimodal_multiclass_unique_restaurants_duplicate_photos/ckpt_12\n"
     ]
    },
    {
     "name": "stderr",
     "output_type": "stream",
     "text": [
      "Training: 100%|██████████| 345/345 [07:41<00:00,  1.34s/it, loss=0.962]\n"
     ]
    },
    {
     "name": "stdout",
     "output_type": "stream",
     "text": [
      "[Epoch 13/20] Train Loss: 0.7614 | Train Accuracy: 0.6436 Val Loss: 0.8015 | Val Accuracy: 0.6175\n",
      "Model checkpoint saved at checkpoints/price_model_multimodal_multiclass_unique_restaurants_duplicate_photos/ckpt_13\n"
     ]
    },
    {
     "name": "stderr",
     "output_type": "stream",
     "text": [
      "Training: 100%|██████████| 345/345 [06:29<00:00,  1.13s/it, loss=0.53] \n"
     ]
    },
    {
     "name": "stdout",
     "output_type": "stream",
     "text": [
      "[Epoch 14/20] Train Loss: 0.7516 | Train Accuracy: 0.6507 Val Loss: 0.8099 | Val Accuracy: 0.6276\n",
      "Model checkpoint saved at checkpoints/price_model_multimodal_multiclass_unique_restaurants_duplicate_photos/ckpt_14\n"
     ]
    },
    {
     "name": "stderr",
     "output_type": "stream",
     "text": [
      "Training: 100%|██████████| 345/345 [08:47<00:00,  1.53s/it, loss=0.718]\n"
     ]
    },
    {
     "name": "stdout",
     "output_type": "stream",
     "text": [
      "[Epoch 15/20] Train Loss: 0.7472 | Train Accuracy: 0.6541 Val Loss: 0.8037 | Val Accuracy: 0.6221\n",
      "Model checkpoint saved at checkpoints/price_model_multimodal_multiclass_unique_restaurants_duplicate_photos/ckpt_15\n"
     ]
    },
    {
     "name": "stderr",
     "output_type": "stream",
     "text": [
      "Training: 100%|██████████| 345/345 [09:04<00:00,  1.58s/it, loss=0.742]\n"
     ]
    },
    {
     "name": "stdout",
     "output_type": "stream",
     "text": [
      "[Epoch 16/20] Train Loss: 0.7444 | Train Accuracy: 0.6564 Val Loss: 0.8008 | Val Accuracy: 0.6037\n",
      "Model checkpoint saved at checkpoints/price_model_multimodal_multiclass_unique_restaurants_duplicate_photos/ckpt_16\n"
     ]
    },
    {
     "name": "stderr",
     "output_type": "stream",
     "text": [
      "Training: 100%|██████████| 345/345 [08:51<00:00,  1.54s/it, loss=0.855]\n"
     ]
    },
    {
     "name": "stdout",
     "output_type": "stream",
     "text": [
      "[Epoch 17/20] Train Loss: 0.7460 | Train Accuracy: 0.6533 Val Loss: 0.8685 | Val Accuracy: 0.6332\n",
      "Model checkpoint saved at checkpoints/price_model_multimodal_multiclass_unique_restaurants_duplicate_photos/ckpt_17\n"
     ]
    },
    {
     "name": "stderr",
     "output_type": "stream",
     "text": [
      "Training: 100%|██████████| 345/345 [07:58<00:00,  1.39s/it, loss=0.863]\n"
     ]
    },
    {
     "name": "stdout",
     "output_type": "stream",
     "text": [
      "[Epoch 18/20] Train Loss: 0.7402 | Train Accuracy: 0.6565 Val Loss: 0.7759 | Val Accuracy: 0.6313\n",
      "Model checkpoint saved at checkpoints/price_model_multimodal_multiclass_unique_restaurants_duplicate_photos/ckpt_18\n"
     ]
    },
    {
     "name": "stderr",
     "output_type": "stream",
     "text": [
      "Training: 100%|██████████| 345/345 [06:49<00:00,  1.19s/it, loss=0.717]\n"
     ]
    },
    {
     "name": "stdout",
     "output_type": "stream",
     "text": [
      "[Epoch 19/20] Train Loss: 0.7315 | Train Accuracy: 0.6607 Val Loss: 0.7966 | Val Accuracy: 0.6221\n",
      "Model checkpoint saved at checkpoints/price_model_multimodal_multiclass_unique_restaurants_duplicate_photos/ckpt_19\n"
     ]
    },
    {
     "name": "stderr",
     "output_type": "stream",
     "text": [
      "Training: 100%|██████████| 345/345 [06:56<00:00,  1.21s/it, loss=0.797]\n"
     ]
    },
    {
     "name": "stdout",
     "output_type": "stream",
     "text": [
      "[Epoch 20/20] Train Loss: 0.7295 | Train Accuracy: 0.6589 Val Loss: 0.7984 | Val Accuracy: 0.6157\n",
      "Model checkpoint saved at checkpoints/price_model_multimodal_multiclass_unique_restaurants_duplicate_photos/ckpt_20\n"
     ]
    }
   ],
   "source": [
    "num_epochs = 20\n",
    "train_model(model, train_loader, val_loader, criterion, optimizer, device, scaler, grad_clip, history, ckpt_dir, num_epochs=num_epochs)"
   ]
  },
  {
   "cell_type": "markdown",
   "metadata": {},
   "source": [
    "### Model evaluation"
   ]
  },
  {
   "cell_type": "code",
   "execution_count": 8,
   "metadata": {},
   "outputs": [
    {
     "data": {
      "text/plain": [
       "FusionModel(\n",
       "  (image_encoder): ResNetFeatureExtractor(\n",
       "    (feature_extractor): Sequential(\n",
       "      (0): Conv2d(3, 64, kernel_size=(7, 7), stride=(2, 2), padding=(3, 3), bias=False)\n",
       "      (1): BatchNorm2d(64, eps=1e-05, momentum=0.1, affine=True, track_running_stats=True)\n",
       "      (2): ReLU(inplace=True)\n",
       "      (3): MaxPool2d(kernel_size=3, stride=2, padding=1, dilation=1, ceil_mode=False)\n",
       "      (4): Sequential(\n",
       "        (0): BasicBlock(\n",
       "          (conv1): Conv2d(64, 64, kernel_size=(3, 3), stride=(1, 1), padding=(1, 1), bias=False)\n",
       "          (bn1): BatchNorm2d(64, eps=1e-05, momentum=0.1, affine=True, track_running_stats=True)\n",
       "          (relu): ReLU(inplace=True)\n",
       "          (conv2): Conv2d(64, 64, kernel_size=(3, 3), stride=(1, 1), padding=(1, 1), bias=False)\n",
       "          (bn2): BatchNorm2d(64, eps=1e-05, momentum=0.1, affine=True, track_running_stats=True)\n",
       "        )\n",
       "        (1): BasicBlock(\n",
       "          (conv1): Conv2d(64, 64, kernel_size=(3, 3), stride=(1, 1), padding=(1, 1), bias=False)\n",
       "          (bn1): BatchNorm2d(64, eps=1e-05, momentum=0.1, affine=True, track_running_stats=True)\n",
       "          (relu): ReLU(inplace=True)\n",
       "          (conv2): Conv2d(64, 64, kernel_size=(3, 3), stride=(1, 1), padding=(1, 1), bias=False)\n",
       "          (bn2): BatchNorm2d(64, eps=1e-05, momentum=0.1, affine=True, track_running_stats=True)\n",
       "        )\n",
       "      )\n",
       "      (5): Sequential(\n",
       "        (0): BasicBlock(\n",
       "          (conv1): Conv2d(64, 128, kernel_size=(3, 3), stride=(2, 2), padding=(1, 1), bias=False)\n",
       "          (bn1): BatchNorm2d(128, eps=1e-05, momentum=0.1, affine=True, track_running_stats=True)\n",
       "          (relu): ReLU(inplace=True)\n",
       "          (conv2): Conv2d(128, 128, kernel_size=(3, 3), stride=(1, 1), padding=(1, 1), bias=False)\n",
       "          (bn2): BatchNorm2d(128, eps=1e-05, momentum=0.1, affine=True, track_running_stats=True)\n",
       "          (downsample): Sequential(\n",
       "            (0): Conv2d(64, 128, kernel_size=(1, 1), stride=(2, 2), bias=False)\n",
       "            (1): BatchNorm2d(128, eps=1e-05, momentum=0.1, affine=True, track_running_stats=True)\n",
       "          )\n",
       "        )\n",
       "        (1): BasicBlock(\n",
       "          (conv1): Conv2d(128, 128, kernel_size=(3, 3), stride=(1, 1), padding=(1, 1), bias=False)\n",
       "          (bn1): BatchNorm2d(128, eps=1e-05, momentum=0.1, affine=True, track_running_stats=True)\n",
       "          (relu): ReLU(inplace=True)\n",
       "          (conv2): Conv2d(128, 128, kernel_size=(3, 3), stride=(1, 1), padding=(1, 1), bias=False)\n",
       "          (bn2): BatchNorm2d(128, eps=1e-05, momentum=0.1, affine=True, track_running_stats=True)\n",
       "        )\n",
       "      )\n",
       "      (6): Sequential(\n",
       "        (0): BasicBlock(\n",
       "          (conv1): Conv2d(128, 256, kernel_size=(3, 3), stride=(2, 2), padding=(1, 1), bias=False)\n",
       "          (bn1): BatchNorm2d(256, eps=1e-05, momentum=0.1, affine=True, track_running_stats=True)\n",
       "          (relu): ReLU(inplace=True)\n",
       "          (conv2): Conv2d(256, 256, kernel_size=(3, 3), stride=(1, 1), padding=(1, 1), bias=False)\n",
       "          (bn2): BatchNorm2d(256, eps=1e-05, momentum=0.1, affine=True, track_running_stats=True)\n",
       "          (downsample): Sequential(\n",
       "            (0): Conv2d(128, 256, kernel_size=(1, 1), stride=(2, 2), bias=False)\n",
       "            (1): BatchNorm2d(256, eps=1e-05, momentum=0.1, affine=True, track_running_stats=True)\n",
       "          )\n",
       "        )\n",
       "        (1): BasicBlock(\n",
       "          (conv1): Conv2d(256, 256, kernel_size=(3, 3), stride=(1, 1), padding=(1, 1), bias=False)\n",
       "          (bn1): BatchNorm2d(256, eps=1e-05, momentum=0.1, affine=True, track_running_stats=True)\n",
       "          (relu): ReLU(inplace=True)\n",
       "          (conv2): Conv2d(256, 256, kernel_size=(3, 3), stride=(1, 1), padding=(1, 1), bias=False)\n",
       "          (bn2): BatchNorm2d(256, eps=1e-05, momentum=0.1, affine=True, track_running_stats=True)\n",
       "        )\n",
       "      )\n",
       "      (7): Sequential(\n",
       "        (0): BasicBlock(\n",
       "          (conv1): Conv2d(256, 512, kernel_size=(3, 3), stride=(2, 2), padding=(1, 1), bias=False)\n",
       "          (bn1): BatchNorm2d(512, eps=1e-05, momentum=0.1, affine=True, track_running_stats=True)\n",
       "          (relu): ReLU(inplace=True)\n",
       "          (conv2): Conv2d(512, 512, kernel_size=(3, 3), stride=(1, 1), padding=(1, 1), bias=False)\n",
       "          (bn2): BatchNorm2d(512, eps=1e-05, momentum=0.1, affine=True, track_running_stats=True)\n",
       "          (downsample): Sequential(\n",
       "            (0): Conv2d(256, 512, kernel_size=(1, 1), stride=(2, 2), bias=False)\n",
       "            (1): BatchNorm2d(512, eps=1e-05, momentum=0.1, affine=True, track_running_stats=True)\n",
       "          )\n",
       "        )\n",
       "        (1): BasicBlock(\n",
       "          (conv1): Conv2d(512, 512, kernel_size=(3, 3), stride=(1, 1), padding=(1, 1), bias=False)\n",
       "          (bn1): BatchNorm2d(512, eps=1e-05, momentum=0.1, affine=True, track_running_stats=True)\n",
       "          (relu): ReLU(inplace=True)\n",
       "          (conv2): Conv2d(512, 512, kernel_size=(3, 3), stride=(1, 1), padding=(1, 1), bias=False)\n",
       "          (bn2): BatchNorm2d(512, eps=1e-05, momentum=0.1, affine=True, track_running_stats=True)\n",
       "        )\n",
       "      )\n",
       "      (8): AdaptiveAvgPool2d(output_size=(1, 1))\n",
       "    )\n",
       "    (fc): Linear(in_features=512, out_features=512, bias=True)\n",
       "  )\n",
       "  (text_encoder): BertFeatureExtractor(\n",
       "    (bert): BertModel(\n",
       "      (embeddings): BertEmbeddings(\n",
       "        (word_embeddings): Embedding(119547, 768, padding_idx=0)\n",
       "        (position_embeddings): Embedding(512, 768)\n",
       "        (token_type_embeddings): Embedding(2, 768)\n",
       "        (LayerNorm): LayerNorm((768,), eps=1e-12, elementwise_affine=True)\n",
       "        (dropout): Dropout(p=0.1, inplace=False)\n",
       "      )\n",
       "      (encoder): BertEncoder(\n",
       "        (layer): ModuleList(\n",
       "          (0-11): 12 x BertLayer(\n",
       "            (attention): BertAttention(\n",
       "              (self): BertSdpaSelfAttention(\n",
       "                (query): Linear(in_features=768, out_features=768, bias=True)\n",
       "                (key): Linear(in_features=768, out_features=768, bias=True)\n",
       "                (value): Linear(in_features=768, out_features=768, bias=True)\n",
       "                (dropout): Dropout(p=0.1, inplace=False)\n",
       "              )\n",
       "              (output): BertSelfOutput(\n",
       "                (dense): Linear(in_features=768, out_features=768, bias=True)\n",
       "                (LayerNorm): LayerNorm((768,), eps=1e-12, elementwise_affine=True)\n",
       "                (dropout): Dropout(p=0.1, inplace=False)\n",
       "              )\n",
       "            )\n",
       "            (intermediate): BertIntermediate(\n",
       "              (dense): Linear(in_features=768, out_features=3072, bias=True)\n",
       "              (intermediate_act_fn): GELUActivation()\n",
       "            )\n",
       "            (output): BertOutput(\n",
       "              (dense): Linear(in_features=3072, out_features=768, bias=True)\n",
       "              (LayerNorm): LayerNorm((768,), eps=1e-12, elementwise_affine=True)\n",
       "              (dropout): Dropout(p=0.1, inplace=False)\n",
       "            )\n",
       "          )\n",
       "        )\n",
       "      )\n",
       "      (pooler): BertPooler(\n",
       "        (dense): Linear(in_features=768, out_features=768, bias=True)\n",
       "        (activation): Tanh()\n",
       "      )\n",
       "    )\n",
       "    (fc): Linear(in_features=768, out_features=512, bias=True)\n",
       "  )\n",
       "  (fusion_mlp): Sequential(\n",
       "    (0): Linear(in_features=1024, out_features=512, bias=True)\n",
       "    (1): LeakyReLU(negative_slope=0.01)\n",
       "    (2): LayerNorm((512,), eps=1e-05, elementwise_affine=True)\n",
       "    (3): Linear(in_features=512, out_features=128, bias=True)\n",
       "    (4): Linear(in_features=128, out_features=512, bias=True)\n",
       "  )\n",
       "  (mlp_classifier): Sequential(\n",
       "    (0): Linear(in_features=512, out_features=256, bias=True)\n",
       "    (1): ReLU()\n",
       "    (2): Linear(in_features=256, out_features=3, bias=True)\n",
       "  )\n",
       ")"
      ]
     },
     "execution_count": 8,
     "metadata": {},
     "output_type": "execute_result"
    }
   ],
   "source": [
    "ckpt = torch.load(f\"{base_dir}saved_models/price_multiclass_multimodal/ckpt_best\", map_location=\"cpu\")\n",
    "model = FusionModel(num_classes=num_classes)\n",
    "model.load_state_dict(ckpt['model_state_dict'])\n",
    "model.to(device)\n",
    "model.eval()"
   ]
  },
  {
   "cell_type": "code",
   "execution_count": 18,
   "metadata": {},
   "outputs": [],
   "source": [
    "torch.save({'model_state_dict': ckpt['model_state_dict']}, 'best_model.pth')"
   ]
  },
  {
   "cell_type": "code",
   "execution_count": 9,
   "metadata": {},
   "outputs": [
    {
     "name": "stdout",
     "output_type": "stream",
     "text": [
      "Classification Report:\n",
      "              precision    recall  f1-score   support\n",
      "\n",
      "           0       0.66      0.74      0.70      2986\n",
      "           1       0.57      0.60      0.59      3995\n",
      "           2       0.87      0.80      0.84      7326\n",
      "\n",
      "    accuracy                           0.73     14307\n",
      "   macro avg       0.70      0.71      0.71     14307\n",
      "weighted avg       0.74      0.73      0.74     14307\n",
      "\n"
     ]
    }
   ],
   "source": [
    "evaluate_model_multimodal(model, train_loader, device, ['0', '1', '2'])"
   ]
  },
  {
   "cell_type": "code",
   "execution_count": 10,
   "metadata": {},
   "outputs": [
    {
     "name": "stdout",
     "output_type": "stream",
     "text": [
      "Classification Report:\n",
      "              precision    recall  f1-score   support\n",
      "\n",
      "           0       0.64      0.70      0.66       171\n",
      "           1       0.64      0.64      0.64       264\n",
      "           2       0.89      0.86      0.88       414\n",
      "\n",
      "    accuracy                           0.76       849\n",
      "   macro avg       0.72      0.73      0.73       849\n",
      "weighted avg       0.76      0.76      0.76       849\n",
      "\n"
     ]
    }
   ],
   "source": [
    "evaluate_model_multimodal(model, test_loader, device, ['0', '1', '2'])"
   ]
  },
  {
   "cell_type": "code",
   "execution_count": 9,
   "metadata": {},
   "outputs": [
    {
     "data": {
      "image/png": "[encoded data removed]",
      "text/plain": [
       "<Figure size 1000x500 with 1 Axes>"
      ]
     },
     "metadata": {},
     "output_type": "display_data"
    }
   ],
   "source": [
    "history = ckpt['history']\n",
    "plot_history(history, 'loss')"
   ]
  },
  {
   "cell_type": "code",
   "execution_count": 10,
   "metadata": {},
   "outputs": [
    {
     "data": {
      "image/png": "[encoded data removed]",
      "text/plain": [
       "<Figure size 1000x500 with 1 Axes>"
      ]
     },
     "metadata": {},
     "output_type": "display_data"
    }
   ],
   "source": [
    "plot_history(history, 'accuracy')"
   ]
  },
  {
   "cell_type": "code",
   "execution_count": null,
   "metadata": {},
   "outputs": [],
   "source": []
  }
 ],
 "metadata": {
  "kernelspec": {
   "display_name": "food-classification-nES7ttkF-py3.10",
   "language": "python",
   "name": "python3"
  },
  "language_info": {
   "codemirror_mode": {
    "name": "ipython",
    "version": 3
   },
   "file_extension": ".py",
   "mimetype": "text/x-python",
   "name": "python",
   "nbconvert_exporter": "python",
   "pygments_lexer": "ipython3",
   "version": "3.10.12"
  }
 },
 "nbformat": 4,
 "nbformat_minor": 2
}
