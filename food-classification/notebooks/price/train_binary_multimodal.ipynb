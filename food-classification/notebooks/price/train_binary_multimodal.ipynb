{
 "cells": [
  {
   "cell_type": "code",
   "execution_count": 2,
   "metadata": {},
   "outputs": [
    {
     "name": "stderr",
     "output_type": "stream",
     "text": [
      "/Users/ericxia/Library/Caches/pypoetry/virtualenvs/food-classification-nES7ttkF-py3.10/lib/python3.10/site-packages/tqdm/auto.py:21: TqdmWarning: IProgress not found. Please update jupyter and ipywidgets. See https://ipywidgets.readthedocs.io/en/stable/user_install.html\n",
      "  from .autonotebook import tqdm as notebook_tqdm\n"
     ]
    }
   ],
   "source": [
    "import sys\n",
    "import os\n",
    "sys.path.append(os.path.abspath('/Users/ericxia/school/Math-148-Project/food-classification'))\n",
    "\n",
    "import json\n",
    "import pandas as pd\n",
    "from data_utils.utils import keep_existing_photos, downsample_group\n",
    "from data_utils.dataset import MultimodalDataset, train_transform, val_transform\n",
    "from model.fusion_model import FusionModel\n",
    "from model.utils import get_device, train_model_single_epoch_multimodal, validate_model_single_epoch_multimodal, save_checkpoint, evaluate_on_test_multimodal\n",
    "\n",
    "import torch\n",
    "import torch.nn as nn\n",
    "import torch.optim as optim\n",
    "from torch.utils.data import DataLoader\n",
    "\n",
    "from sklearn.metrics import classification_report"
   ]
  },
  {
   "cell_type": "markdown",
   "metadata": {},
   "source": [
    "### Data preprocessing"
   ]
  },
  {
   "cell_type": "code",
   "execution_count": 3,
   "metadata": {},
   "outputs": [
    {
     "name": "stderr",
     "output_type": "stream",
     "text": [
      "Checking images: 100%|██████████| 200100/200100 [00:09<00:00, 22123.11it/s]\n"
     ]
    }
   ],
   "source": [
    "base_dir = \"../../\"\n",
    "\n",
    "business_df = pd.read_json(f'{base_dir}data/yelp_dataset/yelp_academic_dataset_business.json', lines=True)\n",
    "photos_df = pd.read_json(f'{base_dir}data/yelp_photos/photos.json', lines=True)\n",
    "top_reviews_per_restaurant = pd.read_csv(f'{base_dir}data/yelp_dataset/top_reviews_per_restaurant_with_summary.csv')\n",
    "\n",
    "photo_dir = f\"{base_dir}data/yelp_photos/resized_photos\"\n",
    "photos_df = keep_existing_photos(photos_df, photo_dir)\n",
    "\n",
    "photos_df = photos_df[photos_df['label'] == 'food'].copy()\n",
    "\n",
    "categories_df = business_df[['business_id', 'attributes']].copy()\n",
    "photos_df = photos_df.merge(categories_df, on=\"business_id\", how=\"left\")\n",
    "\n",
    "photos_df = photos_df[photos_df['attributes'].notna()]\n",
    "photos_df['price_range'] = photos_df['attributes'].apply(lambda x: x.get('RestaurantsPriceRange2'))\n",
    "\n",
    "photos_df['price_range'] = photos_df['price_range'].astype(int)\n",
    "photos_df['price_range'] = photos_df['price_range'].replace({2: 1, 3: 2, 4: 2}) \n",
    "\n",
    "food_with_reviews_df = photos_df.merge(top_reviews_per_restaurant, on=\"business_id\", how=\"left\")"
   ]
  },
  {
   "cell_type": "code",
   "execution_count": 3,
   "metadata": {},
   "outputs": [
    {
     "data": {
      "text/plain": [
       "price_range\n",
       "1    21395\n",
       "2     1102\n",
       "Name: count, dtype: int64"
      ]
     },
     "execution_count": 3,
     "metadata": {},
     "output_type": "execute_result"
    }
   ],
   "source": [
    "food_with_reviews_df_unique = food_with_reviews_df.drop_duplicates(subset=[\"business_id\"], keep=\"first\")\n",
    "food_with_reviews_df_unique.price_range.value_counts()"
   ]
  },
  {
   "cell_type": "code",
   "execution_count": 4,
   "metadata": {},
   "outputs": [
    {
     "name": "stderr",
     "output_type": "stream",
     "text": [
      "/var/folders/6n/sm2tfzkn2hjd8cpfn_256ph00000gp/T/ipykernel_98280/3714349089.py:3: DeprecationWarning: DataFrameGroupBy.apply operated on the grouping columns. This behavior is deprecated, and in a future version of pandas the grouping columns will be excluded from the operation. Either pass `include_groups=False` to exclude the groupings or explicitly select the grouping columns after groupby to silence this warning.\n",
      "  food_df = food_with_reviews_df.groupby('price_range', group_keys=False).apply(\n"
     ]
    }
   ],
   "source": [
    "price_2_num = (food_with_reviews_df.price_range == 2).sum()\n",
    "\n",
    "food_df = food_with_reviews_df.groupby('price_range', group_keys=False).apply(\n",
    "    lambda x: downsample_group(x, price_2_num) if x.name in [1] else x  # Only downsample for price_range 1 and 2\n",
    ")\n",
    "\n",
    "food_df['price_range'] = food_df['price_range'] - 1"
   ]
  },
  {
   "cell_type": "code",
   "execution_count": 18,
   "metadata": {},
   "outputs": [],
   "source": [
    "# unique_ids = food_with_reviews_df.business_id.unique()\n",
    "# np.random.shuffle(unique_ids)\n",
    "# total = len(unique_ids)\n",
    "# train_size = int(0.90 * total)\n",
    "# val_size = int(0.05 * total)\n",
    "# test_size = total - train_size - val_size\n",
    "# train_ids = unique_ids[:train_size]\n",
    "# val_ids = unique_ids[train_size:train_size + val_size]\n",
    "# test_ids = unique_ids[train_size + val_size:]\n",
    "\n",
    "with open(f'{base_dir}data/multimodal_split_ids.json') as f:\n",
    "    ids_dict = json.load(f)\n",
    "\n",
    "train_ids = ids_dict['train_ids']\n",
    "val_ids = ids_dict['val_ids']\n",
    "test_ids = ids_dict['test_ids']\n",
    "\n",
    "train_df = food_df[food_df.business_id.isin(train_ids)]\n",
    "val_df = food_df[food_df.business_id.isin(val_ids)]\n",
    "test_df = food_df[food_df.business_id.isin(test_ids)]"
   ]
  },
  {
   "cell_type": "code",
   "execution_count": 19,
   "metadata": {},
   "outputs": [
    {
     "name": "stdout",
     "output_type": "stream",
     "text": [
      "Images shape: torch.Size([64, 3, 224, 224])\n",
      "Input_ids shape: torch.Size([64, 128])\n",
      "Labels shape: torch.Size([64])\n"
     ]
    }
   ],
   "source": [
    "label = 'price_range'\n",
    "\n",
    "train_dataset = MultimodalDataset(train_df, photo_dir, label)\n",
    "val_dataset = MultimodalDataset(val_df, photo_dir, label)\n",
    "test_dataset = MultimodalDataset(test_df, photo_dir, label)\n",
    "\n",
    "train_dataset.transform = train_transform\n",
    "val_dataset.transform = val_transform\n",
    "test_dataset.transform = val_transform\n",
    "\n",
    "batch_size = 64\n",
    "\n",
    "train_loader = DataLoader(\n",
    "    train_dataset,\n",
    "    batch_size=batch_size,\n",
    "    shuffle=True,\n",
    ")\n",
    "\n",
    "val_loader = DataLoader(\n",
    "    val_dataset,\n",
    "    batch_size=batch_size,\n",
    "    shuffle=False,\n",
    ")\n",
    "\n",
    "test_loader = DataLoader(\n",
    "    test_dataset,\n",
    "    batch_size=batch_size,\n",
    "    shuffle=False,\n",
    ")\n",
    "\n",
    "for batch in train_loader:\n",
    "    print(\"Images shape:\", batch['image'].shape)  \n",
    "    print(\"Input_ids shape:\", batch['input_ids'].shape)\n",
    "    print(\"Labels shape:\", batch['label'].shape)\n",
    "    break"
   ]
  },
  {
   "cell_type": "markdown",
   "metadata": {},
   "source": [
    "### Model training"
   ]
  },
  {
   "cell_type": "code",
   "execution_count": 5,
   "metadata": {},
   "outputs": [
    {
     "name": "stderr",
     "output_type": "stream",
     "text": [
      "/Users/ericxia/Library/Caches/pypoetry/virtualenvs/food-classification-nES7ttkF-py3.10/lib/python3.10/site-packages/torch/amp/grad_scaler.py:132: UserWarning: torch.cuda.amp.GradScaler is enabled, but CUDA is not available.  Disabling.\n",
      "  warnings.warn(\n"
     ]
    }
   ],
   "source": [
    "num_classes = 2\n",
    "device = get_device()\n",
    "\n",
    "model = FusionModel()\n",
    "model = model.to(device)\n",
    "criterion = nn.CrossEntropyLoss()\n",
    "optimizer = optim.AdamW(model.parameters(), lr=1e-3, weight_decay=1e-3)\n",
    "scaler = torch.amp.GradScaler(\"cuda\")\n",
    "grad_clip = 1\n",
    "ckpt_dir = \"checkpoints/price_model_multimodal_binary_unique_restaurants_duplicate_photos\"\n",
    "\n",
    "history = {\n",
    "    \"train_loss\": [],\n",
    "    \"train_accuracy\": [],\n",
    "    \"val_loss\": [],\n",
    "    \"val_accuracy\": []\n",
    "}\n",
    "\n",
    "# Training loop\n",
    "def train_model(model, train_loader, val_loader, criterion, optimizer, device, scaler, grad_clip, history, ckpt_dir, num_epochs=10):\n",
    "    model.train()\n",
    "\n",
    "    for epoch in range(1, num_epochs+1):\n",
    "        train_loss, train_accuracy = train_model_single_epoch_multimodal(\n",
    "            model, train_loader, criterion, optimizer, device, scaler, grad_clip\n",
    "        )\n",
    "        val_loss, val_accuracy = validate_model_single_epoch_multimodal(model, val_loader, criterion, device)\n",
    "\n",
    "        print(\n",
    "            f\"[Epoch {epoch}/{num_epochs}]\",\n",
    "            f\"Train Loss: {train_loss:.4f} | \" f\"Train Accuracy: {train_accuracy:.4f}\",\n",
    "            f\"Val Loss: {val_loss:.4f} | \" f\"Val Accuracy: {val_accuracy:.4f}\"\n",
    "        )\n",
    "\n",
    "        history[\"train_loss\"].append(train_loss)\n",
    "        history[\"train_accuracy\"].append(train_accuracy)\n",
    "        history[\"val_loss\"].append(val_loss)\n",
    "        history[\"val_accuracy\"].append(val_accuracy)\n",
    "\n",
    "        save_checkpoint(epoch, model, optimizer, history, ckpt_dir)"
   ]
  },
  {
   "cell_type": "code",
   "execution_count": 123,
   "metadata": {},
   "outputs": [
    {
     "name": "stderr",
     "output_type": "stream",
     "text": [
      "Training: 100%|██████████| 228/228 [02:57<00:00,  1.28it/s, loss=0.569]\n"
     ]
    },
    {
     "name": "stdout",
     "output_type": "stream",
     "text": [
      "[Epoch 1/20] Train Loss: 0.5879 | Train Accuracy: 0.6812 Val Loss: 0.4807 | Val Accuracy: 0.7484\n",
      "Model checkpoint saved at checkpoints/price_model_multimodal_binary_unique_restaurants_duplicate_photos/ckpt_1\n"
     ]
    },
    {
     "name": "stderr",
     "output_type": "stream",
     "text": [
      "Training: 100%|██████████| 228/228 [02:56<00:00,  1.29it/s, loss=0.516]\n"
     ]
    },
    {
     "name": "stdout",
     "output_type": "stream",
     "text": [
      "[Epoch 2/20] Train Loss: 0.5313 | Train Accuracy: 0.7394 Val Loss: 0.4773 | Val Accuracy: 0.7654\n",
      "Model checkpoint saved at checkpoints/price_model_multimodal_binary_unique_restaurants_duplicate_photos/ckpt_2\n"
     ]
    },
    {
     "name": "stderr",
     "output_type": "stream",
     "text": [
      "Training: 100%|██████████| 228/228 [02:53<00:00,  1.31it/s, loss=0.473]\n"
     ]
    },
    {
     "name": "stdout",
     "output_type": "stream",
     "text": [
      "[Epoch 3/20] Train Loss: 0.5083 | Train Accuracy: 0.7513 Val Loss: 0.4865 | Val Accuracy: 0.7444\n",
      "Model checkpoint saved at checkpoints/price_model_multimodal_binary_unique_restaurants_duplicate_photos/ckpt_3\n"
     ]
    },
    {
     "name": "stderr",
     "output_type": "stream",
     "text": [
      "Training: 100%|██████████| 228/228 [02:54<00:00,  1.31it/s, loss=0.534]\n"
     ]
    },
    {
     "name": "stdout",
     "output_type": "stream",
     "text": [
      "[Epoch 4/20] Train Loss: 0.5147 | Train Accuracy: 0.7528 Val Loss: 0.4862 | Val Accuracy: 0.7759\n",
      "Model checkpoint saved at checkpoints/price_model_multimodal_binary_unique_restaurants_duplicate_photos/ckpt_4\n"
     ]
    },
    {
     "name": "stderr",
     "output_type": "stream",
     "text": [
      "Training: 100%|██████████| 228/228 [02:54<00:00,  1.31it/s, loss=0.441]\n"
     ]
    },
    {
     "name": "stdout",
     "output_type": "stream",
     "text": [
      "[Epoch 5/20] Train Loss: 0.5017 | Train Accuracy: 0.7570 Val Loss: 0.4590 | Val Accuracy: 0.7837\n",
      "Model checkpoint saved at checkpoints/price_model_multimodal_binary_unique_restaurants_duplicate_photos/ckpt_5\n"
     ]
    },
    {
     "name": "stderr",
     "output_type": "stream",
     "text": [
      "Training: 100%|██████████| 228/228 [02:52<00:00,  1.32it/s, loss=0.417]\n"
     ]
    },
    {
     "name": "stdout",
     "output_type": "stream",
     "text": [
      "[Epoch 6/20] Train Loss: 0.4978 | Train Accuracy: 0.7577 Val Loss: 0.4841 | Val Accuracy: 0.7772\n",
      "Model checkpoint saved at checkpoints/price_model_multimodal_binary_unique_restaurants_duplicate_photos/ckpt_6\n"
     ]
    },
    {
     "name": "stderr",
     "output_type": "stream",
     "text": [
      "Training: 100%|██████████| 228/228 [02:51<00:00,  1.33it/s, loss=0.509]\n"
     ]
    },
    {
     "name": "stdout",
     "output_type": "stream",
     "text": [
      "[Epoch 7/20] Train Loss: 0.4918 | Train Accuracy: 0.7614 Val Loss: 0.4760 | Val Accuracy: 0.7851\n",
      "Model checkpoint saved at checkpoints/price_model_multimodal_binary_unique_restaurants_duplicate_photos/ckpt_7\n"
     ]
    },
    {
     "name": "stderr",
     "output_type": "stream",
     "text": [
      "Training: 100%|██████████| 228/228 [02:54<00:00,  1.30it/s, loss=0.386]\n"
     ]
    },
    {
     "name": "stdout",
     "output_type": "stream",
     "text": [
      "[Epoch 8/20] Train Loss: 0.4897 | Train Accuracy: 0.7595 Val Loss: 0.4533 | Val Accuracy: 0.7772\n",
      "Model checkpoint saved at checkpoints/price_model_multimodal_binary_unique_restaurants_duplicate_photos/ckpt_8\n"
     ]
    },
    {
     "name": "stderr",
     "output_type": "stream",
     "text": [
      "Training: 100%|██████████| 228/228 [02:52<00:00,  1.32it/s, loss=0.377]\n"
     ]
    },
    {
     "name": "stdout",
     "output_type": "stream",
     "text": [
      "[Epoch 9/20] Train Loss: 0.4806 | Train Accuracy: 0.7717 Val Loss: 0.5120 | Val Accuracy: 0.7693\n",
      "Model checkpoint saved at checkpoints/price_model_multimodal_binary_unique_restaurants_duplicate_photos/ckpt_9\n"
     ]
    },
    {
     "name": "stderr",
     "output_type": "stream",
     "text": [
      "Training: 100%|██████████| 228/228 [02:57<00:00,  1.29it/s, loss=0.504]\n"
     ]
    },
    {
     "name": "stdout",
     "output_type": "stream",
     "text": [
      "[Epoch 10/20] Train Loss: 0.4739 | Train Accuracy: 0.7719 Val Loss: 0.4591 | Val Accuracy: 0.7798\n",
      "Model checkpoint saved at checkpoints/price_model_multimodal_binary_unique_restaurants_duplicate_photos/ckpt_10\n"
     ]
    },
    {
     "name": "stderr",
     "output_type": "stream",
     "text": [
      "Training: 100%|██████████| 228/228 [02:53<00:00,  1.32it/s, loss=0.617]\n"
     ]
    },
    {
     "name": "stdout",
     "output_type": "stream",
     "text": [
      "[Epoch 11/20] Train Loss: 0.4871 | Train Accuracy: 0.7641 Val Loss: 0.4519 | Val Accuracy: 0.7746\n",
      "Model checkpoint saved at checkpoints/price_model_multimodal_binary_unique_restaurants_duplicate_photos/ckpt_11\n"
     ]
    },
    {
     "name": "stderr",
     "output_type": "stream",
     "text": [
      "Training: 100%|██████████| 228/228 [02:54<00:00,  1.31it/s, loss=0.389]\n"
     ]
    },
    {
     "name": "stdout",
     "output_type": "stream",
     "text": [
      "[Epoch 12/20] Train Loss: 0.4777 | Train Accuracy: 0.7699 Val Loss: 0.4740 | Val Accuracy: 0.7772\n",
      "Model checkpoint saved at checkpoints/price_model_multimodal_binary_unique_restaurants_duplicate_photos/ckpt_12\n"
     ]
    },
    {
     "name": "stderr",
     "output_type": "stream",
     "text": [
      "Training: 100%|██████████| 228/228 [03:34<00:00,  1.06it/s, loss=0.397]\n"
     ]
    },
    {
     "name": "stdout",
     "output_type": "stream",
     "text": [
      "[Epoch 13/20] Train Loss: 0.4756 | Train Accuracy: 0.7722 Val Loss: 0.4742 | Val Accuracy: 0.7798\n",
      "Model checkpoint saved at checkpoints/price_model_multimodal_binary_unique_restaurants_duplicate_photos/ckpt_13\n"
     ]
    },
    {
     "name": "stderr",
     "output_type": "stream",
     "text": [
      "Training: 100%|██████████| 228/228 [07:06<00:00,  1.87s/it, loss=0.423]\n"
     ]
    },
    {
     "name": "stdout",
     "output_type": "stream",
     "text": [
      "[Epoch 14/20] Train Loss: 0.4810 | Train Accuracy: 0.7668 Val Loss: 0.4506 | Val Accuracy: 0.7746\n",
      "Model checkpoint saved at checkpoints/price_model_multimodal_binary_unique_restaurants_duplicate_photos/ckpt_14\n"
     ]
    },
    {
     "name": "stderr",
     "output_type": "stream",
     "text": [
      "Training: 100%|██████████| 228/228 [06:53<00:00,  1.81s/it, loss=0.397]\n"
     ]
    },
    {
     "name": "stdout",
     "output_type": "stream",
     "text": [
      "[Epoch 15/20] Train Loss: 0.4693 | Train Accuracy: 0.7757 Val Loss: 0.4486 | Val Accuracy: 0.7864\n",
      "Model checkpoint saved at checkpoints/price_model_multimodal_binary_unique_restaurants_duplicate_photos/ckpt_15\n"
     ]
    },
    {
     "name": "stderr",
     "output_type": "stream",
     "text": [
      "Training: 100%|██████████| 228/228 [07:03<00:00,  1.86s/it, loss=0.544]\n"
     ]
    },
    {
     "name": "stdout",
     "output_type": "stream",
     "text": [
      "[Epoch 16/20] Train Loss: 0.4652 | Train Accuracy: 0.7769 Val Loss: 0.4620 | Val Accuracy: 0.7746\n",
      "Model checkpoint saved at checkpoints/price_model_multimodal_binary_unique_restaurants_duplicate_photos/ckpt_16\n"
     ]
    },
    {
     "name": "stderr",
     "output_type": "stream",
     "text": [
      "Training: 100%|██████████| 228/228 [06:59<00:00,  1.84s/it, loss=0.452]\n"
     ]
    },
    {
     "name": "stdout",
     "output_type": "stream",
     "text": [
      "[Epoch 17/20] Train Loss: 0.4621 | Train Accuracy: 0.7833 Val Loss: 0.4615 | Val Accuracy: 0.7851\n",
      "Model checkpoint saved at checkpoints/price_model_multimodal_binary_unique_restaurants_duplicate_photos/ckpt_17\n"
     ]
    },
    {
     "name": "stderr",
     "output_type": "stream",
     "text": [
      "Training: 100%|██████████| 228/228 [06:00<00:00,  1.58s/it, loss=0.563]\n"
     ]
    },
    {
     "name": "stdout",
     "output_type": "stream",
     "text": [
      "[Epoch 18/20] Train Loss: 0.4592 | Train Accuracy: 0.7801 Val Loss: 0.4469 | Val Accuracy: 0.7877\n",
      "Model checkpoint saved at checkpoints/price_model_multimodal_binary_unique_restaurants_duplicate_photos/ckpt_18\n"
     ]
    },
    {
     "name": "stderr",
     "output_type": "stream",
     "text": [
      "Training: 100%|██████████| 228/228 [03:28<00:00,  1.09it/s, loss=0.531]\n"
     ]
    },
    {
     "name": "stdout",
     "output_type": "stream",
     "text": [
      "[Epoch 19/20] Train Loss: 0.4542 | Train Accuracy: 0.7859 Val Loss: 0.4820 | Val Accuracy: 0.7641\n",
      "Model checkpoint saved at checkpoints/price_model_multimodal_binary_unique_restaurants_duplicate_photos/ckpt_19\n"
     ]
    },
    {
     "name": "stderr",
     "output_type": "stream",
     "text": [
      "Training: 100%|██████████| 228/228 [03:54<00:00,  1.03s/it, loss=0.354]\n"
     ]
    },
    {
     "name": "stdout",
     "output_type": "stream",
     "text": [
      "[Epoch 20/20] Train Loss: 0.4569 | Train Accuracy: 0.7835 Val Loss: 0.4506 | Val Accuracy: 0.7811\n",
      "Model checkpoint saved at checkpoints/price_model_multimodal_binary_unique_restaurants_duplicate_photos/ckpt_20\n"
     ]
    }
   ],
   "source": [
    "num_epochs = 20\n",
    "train_model(model, train_loader, val_loader, criterion, optimizer, device, scaler, grad_clip, history, ckpt_dir, num_epochs=num_epochs)"
   ]
  },
  {
   "cell_type": "markdown",
   "metadata": {},
   "source": [
    "### Model evaluation"
   ]
  },
  {
   "cell_type": "code",
   "execution_count": 6,
   "metadata": {},
   "outputs": [
    {
     "data": {
      "text/plain": [
       "FusionModel(\n",
       "  (image_encoder): ResNetFeatureExtractor(\n",
       "    (feature_extractor): Sequential(\n",
       "      (0): Conv2d(3, 64, kernel_size=(7, 7), stride=(2, 2), padding=(3, 3), bias=False)\n",
       "      (1): BatchNorm2d(64, eps=1e-05, momentum=0.1, affine=True, track_running_stats=True)\n",
       "      (2): ReLU(inplace=True)\n",
       "      (3): MaxPool2d(kernel_size=3, stride=2, padding=1, dilation=1, ceil_mode=False)\n",
       "      (4): Sequential(\n",
       "        (0): BasicBlock(\n",
       "          (conv1): Conv2d(64, 64, kernel_size=(3, 3), stride=(1, 1), padding=(1, 1), bias=False)\n",
       "          (bn1): BatchNorm2d(64, eps=1e-05, momentum=0.1, affine=True, track_running_stats=True)\n",
       "          (relu): ReLU(inplace=True)\n",
       "          (conv2): Conv2d(64, 64, kernel_size=(3, 3), stride=(1, 1), padding=(1, 1), bias=False)\n",
       "          (bn2): BatchNorm2d(64, eps=1e-05, momentum=0.1, affine=True, track_running_stats=True)\n",
       "        )\n",
       "        (1): BasicBlock(\n",
       "          (conv1): Conv2d(64, 64, kernel_size=(3, 3), stride=(1, 1), padding=(1, 1), bias=False)\n",
       "          (bn1): BatchNorm2d(64, eps=1e-05, momentum=0.1, affine=True, track_running_stats=True)\n",
       "          (relu): ReLU(inplace=True)\n",
       "          (conv2): Conv2d(64, 64, kernel_size=(3, 3), stride=(1, 1), padding=(1, 1), bias=False)\n",
       "          (bn2): BatchNorm2d(64, eps=1e-05, momentum=0.1, affine=True, track_running_stats=True)\n",
       "        )\n",
       "      )\n",
       "      (5): Sequential(\n",
       "        (0): BasicBlock(\n",
       "          (conv1): Conv2d(64, 128, kernel_size=(3, 3), stride=(2, 2), padding=(1, 1), bias=False)\n",
       "          (bn1): BatchNorm2d(128, eps=1e-05, momentum=0.1, affine=True, track_running_stats=True)\n",
       "          (relu): ReLU(inplace=True)\n",
       "          (conv2): Conv2d(128, 128, kernel_size=(3, 3), stride=(1, 1), padding=(1, 1), bias=False)\n",
       "          (bn2): BatchNorm2d(128, eps=1e-05, momentum=0.1, affine=True, track_running_stats=True)\n",
       "          (downsample): Sequential(\n",
       "            (0): Conv2d(64, 128, kernel_size=(1, 1), stride=(2, 2), bias=False)\n",
       "            (1): BatchNorm2d(128, eps=1e-05, momentum=0.1, affine=True, track_running_stats=True)\n",
       "          )\n",
       "        )\n",
       "        (1): BasicBlock(\n",
       "          (conv1): Conv2d(128, 128, kernel_size=(3, 3), stride=(1, 1), padding=(1, 1), bias=False)\n",
       "          (bn1): BatchNorm2d(128, eps=1e-05, momentum=0.1, affine=True, track_running_stats=True)\n",
       "          (relu): ReLU(inplace=True)\n",
       "          (conv2): Conv2d(128, 128, kernel_size=(3, 3), stride=(1, 1), padding=(1, 1), bias=False)\n",
       "          (bn2): BatchNorm2d(128, eps=1e-05, momentum=0.1, affine=True, track_running_stats=True)\n",
       "        )\n",
       "      )\n",
       "      (6): Sequential(\n",
       "        (0): BasicBlock(\n",
       "          (conv1): Conv2d(128, 256, kernel_size=(3, 3), stride=(2, 2), padding=(1, 1), bias=False)\n",
       "          (bn1): BatchNorm2d(256, eps=1e-05, momentum=0.1, affine=True, track_running_stats=True)\n",
       "          (relu): ReLU(inplace=True)\n",
       "          (conv2): Conv2d(256, 256, kernel_size=(3, 3), stride=(1, 1), padding=(1, 1), bias=False)\n",
       "          (bn2): BatchNorm2d(256, eps=1e-05, momentum=0.1, affine=True, track_running_stats=True)\n",
       "          (downsample): Sequential(\n",
       "            (0): Conv2d(128, 256, kernel_size=(1, 1), stride=(2, 2), bias=False)\n",
       "            (1): BatchNorm2d(256, eps=1e-05, momentum=0.1, affine=True, track_running_stats=True)\n",
       "          )\n",
       "        )\n",
       "        (1): BasicBlock(\n",
       "          (conv1): Conv2d(256, 256, kernel_size=(3, 3), stride=(1, 1), padding=(1, 1), bias=False)\n",
       "          (bn1): BatchNorm2d(256, eps=1e-05, momentum=0.1, affine=True, track_running_stats=True)\n",
       "          (relu): ReLU(inplace=True)\n",
       "          (conv2): Conv2d(256, 256, kernel_size=(3, 3), stride=(1, 1), padding=(1, 1), bias=False)\n",
       "          (bn2): BatchNorm2d(256, eps=1e-05, momentum=0.1, affine=True, track_running_stats=True)\n",
       "        )\n",
       "      )\n",
       "      (7): Sequential(\n",
       "        (0): BasicBlock(\n",
       "          (conv1): Conv2d(256, 512, kernel_size=(3, 3), stride=(2, 2), padding=(1, 1), bias=False)\n",
       "          (bn1): BatchNorm2d(512, eps=1e-05, momentum=0.1, affine=True, track_running_stats=True)\n",
       "          (relu): ReLU(inplace=True)\n",
       "          (conv2): Conv2d(512, 512, kernel_size=(3, 3), stride=(1, 1), padding=(1, 1), bias=False)\n",
       "          (bn2): BatchNorm2d(512, eps=1e-05, momentum=0.1, affine=True, track_running_stats=True)\n",
       "          (downsample): Sequential(\n",
       "            (0): Conv2d(256, 512, kernel_size=(1, 1), stride=(2, 2), bias=False)\n",
       "            (1): BatchNorm2d(512, eps=1e-05, momentum=0.1, affine=True, track_running_stats=True)\n",
       "          )\n",
       "        )\n",
       "        (1): BasicBlock(\n",
       "          (conv1): Conv2d(512, 512, kernel_size=(3, 3), stride=(1, 1), padding=(1, 1), bias=False)\n",
       "          (bn1): BatchNorm2d(512, eps=1e-05, momentum=0.1, affine=True, track_running_stats=True)\n",
       "          (relu): ReLU(inplace=True)\n",
       "          (conv2): Conv2d(512, 512, kernel_size=(3, 3), stride=(1, 1), padding=(1, 1), bias=False)\n",
       "          (bn2): BatchNorm2d(512, eps=1e-05, momentum=0.1, affine=True, track_running_stats=True)\n",
       "        )\n",
       "      )\n",
       "      (8): AdaptiveAvgPool2d(output_size=(1, 1))\n",
       "    )\n",
       "    (fc): Linear(in_features=512, out_features=512, bias=True)\n",
       "  )\n",
       "  (text_encoder): BertFeatureExtractor(\n",
       "    (bert): BertModel(\n",
       "      (embeddings): BertEmbeddings(\n",
       "        (word_embeddings): Embedding(119547, 768, padding_idx=0)\n",
       "        (position_embeddings): Embedding(512, 768)\n",
       "        (token_type_embeddings): Embedding(2, 768)\n",
       "        (LayerNorm): LayerNorm((768,), eps=1e-12, elementwise_affine=True)\n",
       "        (dropout): Dropout(p=0.1, inplace=False)\n",
       "      )\n",
       "      (encoder): BertEncoder(\n",
       "        (layer): ModuleList(\n",
       "          (0-11): 12 x BertLayer(\n",
       "            (attention): BertAttention(\n",
       "              (self): BertSdpaSelfAttention(\n",
       "                (query): Linear(in_features=768, out_features=768, bias=True)\n",
       "                (key): Linear(in_features=768, out_features=768, bias=True)\n",
       "                (value): Linear(in_features=768, out_features=768, bias=True)\n",
       "                (dropout): Dropout(p=0.1, inplace=False)\n",
       "              )\n",
       "              (output): BertSelfOutput(\n",
       "                (dense): Linear(in_features=768, out_features=768, bias=True)\n",
       "                (LayerNorm): LayerNorm((768,), eps=1e-12, elementwise_affine=True)\n",
       "                (dropout): Dropout(p=0.1, inplace=False)\n",
       "              )\n",
       "            )\n",
       "            (intermediate): BertIntermediate(\n",
       "              (dense): Linear(in_features=768, out_features=3072, bias=True)\n",
       "              (intermediate_act_fn): GELUActivation()\n",
       "            )\n",
       "            (output): BertOutput(\n",
       "              (dense): Linear(in_features=3072, out_features=768, bias=True)\n",
       "              (LayerNorm): LayerNorm((768,), eps=1e-12, elementwise_affine=True)\n",
       "              (dropout): Dropout(p=0.1, inplace=False)\n",
       "            )\n",
       "          )\n",
       "        )\n",
       "      )\n",
       "      (pooler): BertPooler(\n",
       "        (dense): Linear(in_features=768, out_features=768, bias=True)\n",
       "        (activation): Tanh()\n",
       "      )\n",
       "    )\n",
       "    (fc): Linear(in_features=768, out_features=512, bias=True)\n",
       "  )\n",
       "  (fusion_mlp): Sequential(\n",
       "    (0): Linear(in_features=1024, out_features=512, bias=True)\n",
       "    (1): LeakyReLU(negative_slope=0.01)\n",
       "    (2): LayerNorm((512,), eps=1e-05, elementwise_affine=True)\n",
       "    (3): Linear(in_features=512, out_features=128, bias=True)\n",
       "    (4): Linear(in_features=128, out_features=512, bias=True)\n",
       "  )\n",
       "  (mlp_classifier): Sequential(\n",
       "    (0): Linear(in_features=512, out_features=256, bias=True)\n",
       "    (1): ReLU()\n",
       "    (2): Linear(in_features=256, out_features=2, bias=True)\n",
       "  )\n",
       ")"
      ]
     },
     "execution_count": 6,
     "metadata": {},
     "output_type": "execute_result"
    }
   ],
   "source": [
    "ckpt = torch.load(f\"{base_dir}saved_models/price_binary_multimodal/ckpt_best\", map_location=\"cpu\")\n",
    "model = FusionModel()\n",
    "model.load_state_dict(ckpt['model_state_dict'])\n",
    "model.to(device)\n",
    "model.eval()"
   ]
  },
  {
   "cell_type": "code",
   "execution_count": 7,
   "metadata": {},
   "outputs": [],
   "source": [
    "torch.save({'model_state_dict': ckpt['model_state_dict']}, 'best_model.pth')"
   ]
  },
  {
   "cell_type": "code",
   "execution_count": 23,
   "metadata": {},
   "outputs": [
    {
     "name": "stdout",
     "output_type": "stream",
     "text": [
      "Classification Report on Test Set:\n",
      "              precision    recall  f1-score   support\n",
      "\n",
      "           0       0.79      0.81      0.80       462\n",
      "           1       0.78      0.76      0.77       414\n",
      "\n",
      "    accuracy                           0.78       876\n",
      "   macro avg       0.78      0.78      0.78       876\n",
      "weighted avg       0.78      0.78      0.78       876\n",
      "\n"
     ]
    }
   ],
   "source": [
    "evaluate_on_test_multimodal(model, test_loader, device, ['0', '1'])"
   ]
  },
  {
   "cell_type": "code",
   "execution_count": null,
   "metadata": {},
   "outputs": [],
   "source": []
  }
 ],
 "metadata": {
  "kernelspec": {
   "display_name": "food-classification-nES7ttkF-py3.10",
   "language": "python",
   "name": "python3"
  },
  "language_info": {
   "codemirror_mode": {
    "name": "ipython",
    "version": 3
   },
   "file_extension": ".py",
   "mimetype": "text/x-python",
   "name": "python",
   "nbconvert_exporter": "python",
   "pygments_lexer": "ipython3",
   "version": "3.10.12"
  }
 },
 "nbformat": 4,
 "nbformat_minor": 2
}
