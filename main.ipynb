{
 "cells": [
  {
   "cell_type": "markdown",
   "metadata": {},
   "source": [
    "# Initial Exploration - Text Track"
   ]
  },
  {
   "cell_type": "markdown",
   "metadata": {},
   "source": [
    "For illustration purposes and to establish the pipeline for initial exploration, this analysis uses a dataset containing a sample of 10,000 data points."
   ]
  },
  {
   "cell_type": "code",
   "execution_count": 4,
   "metadata": {},
   "outputs": [],
   "source": [
    "from utils.processing import process_parking_ambience_categories\n",
    "from utils.zipcode import merge_income_data"
   ]
  },
  {
   "cell_type": "code",
   "execution_count": 5,
   "metadata": {},
   "outputs": [],
   "source": [
    "import pandas as pd\n",
    "\n",
    "file_path = \"yelp_dataset/yelp_sampled_data.csv\"\n",
    "df = pd.read_csv(file_path)"
   ]
  },
  {
   "cell_type": "markdown",
   "metadata": {},
   "source": [
    "- Data Processing\n",
    "\n",
    "  **Done:**\n",
    "\n",
    "    * The **\"BusinessParking\"** and **\"Ambience\"** columns contain nested attributes. If present, they store structured data in dictionary-like formats (e.g., for **BusinessParking**:  \n",
    "    `\"{'garage': False, 'street': False, 'validated': False, 'lot': False, 'valet': False}\"`,  \n",
    "    for **Ambience**:  \n",
    "    `\"{'touristy': False, 'hipster': False, 'romantic': False, 'divey': False, 'intimate': False, 'trendy': False, 'upscale': False, 'classy': False, 'casual': False}\"`).  \n",
    "    We extracted and processed these nested attributes with one-hot encoding. Also, if a business lacks **BusinessParking** or **Ambience** data, we set all values to zero to handle missing values.\n",
    "\n",
    "    * The columns **\"address,\" \"city,\" \"state,\" \"postal_code,\" \"latitude,\"** and **\"longitude\"** contain geographical location data for restaurants or businesses. We found an augmental dataset on Kaggle with income data that could be joined on ZIP codes.\n",
    "\n",
    "  **To-Do:**\n",
    "\n",
    "  * The **\"RestaurantsAttire\"** column contains inconsistent values, including:  \n",
    "    `\"u'casual'\"`, `nan`, `\"'casual'\"`, `\"u'dressy'\"`, `\"'dressy'\"`, `\"'formal'\"`, `\"u'formal'\"`.  \n",
    "    We need to standardize these values and clarify their meanings.\n",
    "\n",
    "  * The **\"categories\"** column stores a comma-separated string of labels, such as:  \n",
    "    `\"Restaurants, Gluten-Free, Bars, Food, Nightlife, Sandwiches, Burgers\"`.  \n",
    "    We should split these into individual categorical variables for better usability.\n",
    "\n",
    "- Text Processing\n",
    "\n",
    "  Below are some basic text processing methods considered:\n",
    "\n",
    "  - **Sentiment Analysis**\n",
    "\n",
    "  - **SBERT Embeddings**\n",
    "\n",
    "  - **Topic Modeling (LDA)**\n",
    "\n",
    "  - **TF-IDF Features**\n",
    "\n",
    "  These methods, while conventional, may introduce excessive noise, sparsity, or irrelevant features. Some approaches (e.g., LDA, TF-IDF) lack deep contextual understanding, while others (e.g., SBERT) may be too complex relative to the dataset size. \n",
    "  \n",
    "  **To-Do:**\n",
    "  \n",
    "  * Further Investigation of Existing Methods\n",
    "\n",
    "    * Evaluate whether they actually help with prediction. We can add one technique at a time to see if it helps with performance. Some other useful techniques include permutation importance or SHAP values for feature selection.\n",
    "    \n",
    "    * Implement other preprocessing steps for simple methods (TF-IDF and LDA), including stopword removal, stemming, etc.\n",
    "    \n",
    "    * Some minor things to do for specific technique, including hyperparameter tuning for LDA, comparison of sentiment scores against key business indicators to determine their predictive value. Also SBERT embeddings might not be the most optimal embedding, so we can try Word2Vec or GloVe as well. \n",
    "  \n",
    "  * Other NLP Techniques\n",
    "\n",
    "    * Experiment with domain-specific adaptations of BERT (e.g., DistilBERT, RoBERTa) using a small dataset of labeled business reviews.  \n",
    "\n",
    "    * Use transformer-based models to extract contextualized word importance instead of relying solely on TF-IDF.  \n",
    "\n",
    "    * Develop a pipeline combining LDA for topic extraction with embeddings for semantic similarity scoring.  \n",
    "\n",
    "    * Investigate if zero-shot classifiers like Mistral or OpenAI’s CLIP can generalize well on sentiment and topic classification without requiring extensive labeled data.  \n",
    "\n",
    "- Modeling\n",
    "\n",
    "  The current model is used primarily for testing purposes. A key challenge in this project is the severe class imbalance in target variables such as **usefulness** and **price range**, which requires careful handling.\n",
    "\n",
    "  **To-Do:**\n",
    "  - select an appropriate model, training strategy, and hyperparameter tuning approach.\n",
    "  - research and implement techniques to address class imbalance.\n",
    "  - ..."
   ]
  },
  {
   "cell_type": "code",
   "execution_count": 7,
   "metadata": {},
   "outputs": [
    {
     "name": "stdout",
     "output_type": "stream",
     "text": [
      "=== Kaggle Income Dataset Insights ===\n",
      "Initial Kaggle dataset shape: (364998, 111)\n",
      "Kaggle dataset columns: ['ZIP', 'Geography', 'Geographic Area Name', 'Households', 'Households Margin of Error', 'Households Less Than $10,000', 'Households Less Than $10,000 Margin of Error', 'Households $10,000 to $14,999', 'Households $10,000 to $14,999 Margin of Error', 'Households $15,000 to $24,999', 'Households $15,000 to $24,999 Margin of Error', 'Households $25,000 to $34,999', 'Households $25,000 to $34,999 Margin of Error', 'Households $35,000 to $49,999', 'Households $35,000 to $49,999 Margin of Error', 'Households $50,000 to $74,999', 'Households $50,000 to $74,999 Margin of Error', 'Households $75,000 to $99,999', 'Households $75,000 to $99,999 Margin of Error', 'Households $100,000 to $149,999', 'Households $100,000 to $149,999 Margin of Error', 'Households $150,000 to $199,999', 'Households $150,000 to $199,999 Margin of Error', 'Households $200,000 or More', 'Households $200,000 or More Margin of Error', 'Households Median Income (Dollars)', 'Households Median Income (Dollars) Margin of Error', 'Households Mean Income (Dollars)', 'Households Mean Income (Dollars) Margin of Error', 'Households Household Income in the Past 12 Months', 'Families', 'Families Margin of Error', 'Families Less Than $10,000', 'Families Less Than $10,000 Margin of Error', 'Families $10,000 to $14,999', 'Families $10,000 to $14,999 Margin of Error', 'Families $15,000 to $24,999', 'Families $15,000 to $24,999 Margin of Error', 'Families $25,000 to $34,999', 'Families $25,000 to $34,999 Margin of Error', 'Families $35,000 to $49,999', 'Families $35,000 to $49,999 Margin of Error', 'Families $50,000 to $74,999', 'Families $50,000 to $74,999 Margin of Error', 'Families $75,000 to $99,999', 'Families $75,000 to $99,999 Margin of Error', 'Families $100,000 to $149,999', 'Families $100,000 to $149,999 Margin of Error', 'Families $150,000 to $199,999', 'Families $150,000 to $199,999 Margin of Error', 'Families $200,000 or More', 'Families $200,000 or More Margin of Error', 'Families Median Income (Dollars)', 'Families Median Income (Dollars) Margin of Error', 'Families Mean Income (Dollars)', 'Families Mean Income (Dollars) Margin of Error', 'Families Family Income in the Past 12 Months', 'Married-Couple Families', 'Married-Couple Families Margin of Error', 'Married-Couple Families Less Than $10,000', 'Married-Couple Families Less Than $10,000 Margin of Error', 'Married-Couple Families $10,000 to $14,999', 'Married-Couple Families $10,000 to $14,999 Margin of Error', 'Married-Couple Families $15,000 to $24,999', 'Married-Couple Families $15,000 to $24,999 Margin of Error', 'Married-Couple Families $25,000 to $34,999', 'Married-Couple Families $25,000 to $34,999 Margin of Error', 'Married-Couple Families $35,000 to $49,999', 'Married-Couple Families $35,000 to $49,999 Margin of Error', 'Married-Couple Families $50,000 to $74,999', 'Married-Couple Families $50,000 to $74,999 Margin of Error', 'Married-Couple Families $75,000 to $99,999', 'Married-Couple Families $75,000 to $99,999 Margin of Error', 'Married-Couple Families $100,000 to $149,999', 'Married-Couple Families $100,000 to $149,999 Margin of Error', 'Married-Couple Families $150,000 to $199,999', 'Married-Couple Families $150,000 to $199,999 Margin of Error', 'Married-Couple Families $200,000 or More', 'Married-Couple Families $200,000 or More Margin of Error', 'Married-Couple Families Median Income (Dollars)', 'Married-Couple Families Median Income (Dollars) Margin of Error', 'Married-Couple Families Mean Income (Dollars)', 'Married-Couple Families Mean Income (Dollars) Margin of Error', 'Nonfamily Households', 'Nonfamily Households Margin of Error', 'Nonfamily Households Less Than $10,000', 'Nonfamily Households Less Than $10,000 Margin of Error', 'Nonfamily Households $10,000 to $14,999', 'Nonfamily Households $10,000 to $14,999 Margin of Error', 'Nonfamily Households $15,000 to $24,999', 'Nonfamily Households $15,000 to $24,999 Margin of Error', 'Nonfamily Households $25,000 to $34,999', 'Nonfamily Households $25,000 to $34,999 Margin of Error', 'Nonfamily Households $35,000 to $49,999', 'Nonfamily Households $35,000 to $49,999 Margin of Error', 'Nonfamily Households $50,000 to $74,999', 'Nonfamily Households $50,000 to $74,999 Margin of Error', 'Nonfamily Households $75,000 to $99,999', 'Nonfamily Households $75,000 to $99,999 Margin of Error', 'Nonfamily Households $100,000 to $149,999', 'Nonfamily Households $100,000 to $149,999 Margin of Error', 'Nonfamily Households $150,000 to $199,999', 'Nonfamily Households $150,000 to $199,999 Margin of Error', 'Nonfamily Households $200,000 or More', 'Nonfamily Households $200,000 or More Margin of Error', 'Nonfamily Households Median Income (Dollars)', 'Nonfamily Households Median Income (Dollars) Margin of Error', 'Nonfamily Households Mean Income (Dollars)', 'Nonfamily Households Mean Income (Dollars) Margin of Error', 'Nonfamily Households Nonfamily Income in the Past 12 Months', 'Year']\n",
      "First 5 rows:\n",
      "   ZIP       Geography Geographic Area Name  Households  \\\n",
      "0  601  860Z200US00601          ZCTA5 00601      5397.0   \n",
      "1  602  860Z200US00602          ZCTA5 00602     12858.0   \n",
      "2  603  860Z200US00603          ZCTA5 00603     19295.0   \n",
      "3  606  860Z200US00606          ZCTA5 00606      1968.0   \n",
      "4  610  860Z200US00610          ZCTA5 00610      8934.0   \n",
      "\n",
      "   Households Margin of Error  Households Less Than $10,000  \\\n",
      "0                       264.0                          33.2   \n",
      "1                       448.0                          27.1   \n",
      "2                       555.0                          32.1   \n",
      "3                       171.0                          28.4   \n",
      "4                       372.0                          20.5   \n",
      "\n",
      "   Households Less Than $10,000 Margin of Error  \\\n",
      "0                                           4.4   \n",
      "1                                           2.9   \n",
      "2                                           2.5   \n",
      "3                                           5.5   \n",
      "4                                           2.5   \n",
      "\n",
      "   Households $10,000 to $14,999  \\\n",
      "0                           15.7   \n",
      "1                           12.7   \n",
      "2                           13.4   \n",
      "3                           13.3   \n",
      "4                           13.2   \n",
      "\n",
      "   Households $10,000 to $14,999 Margin of Error  \\\n",
      "0                                            2.9   \n",
      "1                                            2.1   \n",
      "2                                            1.6   \n",
      "3                                            4.4   \n",
      "4                                            2.5   \n",
      "\n",
      "   Households $15,000 to $24,999  ...  \\\n",
      "0                           23.9  ...   \n",
      "1                           20.5  ...   \n",
      "2                           17.2  ...   \n",
      "3                           23.3  ...   \n",
      "4                           23.3  ...   \n",
      "\n",
      "   Nonfamily Households $150,000 to $199,999  \\\n",
      "0                                        0.0   \n",
      "1                                        0.0   \n",
      "2                                        0.6   \n",
      "3                                        0.0   \n",
      "4                                        0.0   \n",
      "\n",
      "   Nonfamily Households $150,000 to $199,999 Margin of Error  \\\n",
      "0                                                2.8           \n",
      "1                                                1.3           \n",
      "2                                                0.6           \n",
      "3                                                7.5           \n",
      "4                                                1.8           \n",
      "\n",
      "   Nonfamily Households $200,000 or More  \\\n",
      "0                                    0.0   \n",
      "1                                    0.0   \n",
      "2                                    0.2   \n",
      "3                                    0.0   \n",
      "4                                    0.0   \n",
      "\n",
      "   Nonfamily Households $200,000 or More Margin of Error  \\\n",
      "0                                                2.8       \n",
      "1                                                1.3       \n",
      "2                                                0.4       \n",
      "3                                                7.5       \n",
      "4                                                1.8       \n",
      "\n",
      "   Nonfamily Households Median Income (Dollars)  \\\n",
      "0                                        9386.0   \n",
      "1                                       11242.0   \n",
      "2                                       10639.0   \n",
      "3                                       15849.0   \n",
      "4                                       12832.0   \n",
      "\n",
      "   Nonfamily Households Median Income (Dollars) Margin of Error  \\\n",
      "0                                             1472.0              \n",
      "1                                             1993.0              \n",
      "2                                              844.0              \n",
      "3                                             3067.0              \n",
      "4                                             2405.0              \n",
      "\n",
      "   Nonfamily Households Mean Income (Dollars)  \\\n",
      "0                                     13044.0   \n",
      "1                                     16419.0   \n",
      "2                                     16824.0   \n",
      "3                                     16312.0   \n",
      "4                                     16756.0   \n",
      "\n",
      "   Nonfamily Households Mean Income (Dollars) Margin of Error  \\\n",
      "0                                             1949.0            \n",
      "1                                             2310.0            \n",
      "2                                             2217.0            \n",
      "3                                             2662.0            \n",
      "4                                             1740.0            \n",
      "\n",
      "   Nonfamily Households Nonfamily Income in the Past 12 Months    Year  \n",
      "0                                               15.0            2021.0  \n",
      "1                                               20.1            2021.0  \n",
      "2                                               34.9            2021.0  \n",
      "3                                               13.0            2021.0  \n",
      "4                                               14.5            2021.0  \n",
      "\n",
      "[5 rows x 111 columns] \n",
      "\n",
      "Shape after filtering for year 2021: (33774, 111) \n",
      "\n",
      "Extracted columns shape: (33774, 3)\n",
      "Number of unique ZIP codes before cleaning: 33774 \n",
      "\n",
      "Missing values in each column before cleaning:\n",
      "Families Median Income (Dollars)    3526\n",
      "Families Mean Income (Dollars)      2334\n",
      "ZIP                                    0\n",
      "dtype: int64 \n",
      "\n",
      "Shape after dropping rows with missing values: (30243, 3)\n",
      "Number of duplicate ZIP codes after cleaning: 0\n",
      "Shape after dropping duplicate ZIP codes: (30243, 3) \n",
      "\n",
      "Merged DataFrame shape: (9765, 52)\n"
     ]
    },
    {
     "name": "stderr",
     "output_type": "stream",
     "text": [
      "/Users/apple/Desktop/Math-148-Project/utils/zipcode.py:55: SettingWithCopyWarning: \n",
      "A value is trying to be set on a copy of a slice from a DataFrame.\n",
      "Try using .loc[row_indexer,col_indexer] = value instead\n",
      "\n",
      "See the caveats in the documentation: https://pandas.pydata.org/pandas-docs/stable/user_guide/indexing.html#returning-a-view-versus-a-copy\n",
      "  zip_combine['ZIP'] = zip_combine['ZIP'].astype(str).str.zfill(5)\n"
     ]
    }
   ],
   "source": [
    "df = process_parking_ambience_categories(df)\n",
    "df = merge_income_data(df)"
   ]
  },
  {
   "cell_type": "code",
   "execution_count": 4,
   "metadata": {},
   "outputs": [
    {
     "data": {
      "text/plain": [
       "Index(['user_id', 'business_id', 'stars', 'useful', 'cool', 'text', 'name',\n",
       "       'address', 'city', 'state', 'latitude', 'longitude', 'business_stars',\n",
       "       'business_review_count', 'BusinessParking', 'Ambience',\n",
       "       'RestaurantsAttire', 'RestaurantsPriceRange2', 'user_review_count',\n",
       "       'user_useful', 'user_funny', 'user_cool', 'average_stars', 'fans',\n",
       "       'compliment_hot', 'compliment_more', 'compliment_profile',\n",
       "       'compliment_cute', 'compliment_list', 'compliment_note',\n",
       "       'compliment_plain', 'compliment_cool', 'compliment_funny',\n",
       "       'compliment_writer', 'compliment_photos', 'garage', 'street',\n",
       "       'validated', 'lot', 'valet', 'touristy', 'hipster', 'romantic', 'divey',\n",
       "       'intimate', 'trendy', 'upscale', 'classy', 'casual',\n",
       "       'Families Median Income (Dollars)', 'Families Mean Income (Dollars)',\n",
       "       'zip_code'],\n",
       "      dtype='object')"
      ]
     },
     "execution_count": 4,
     "metadata": {},
     "output_type": "execute_result"
    }
   ],
   "source": [
    "df.columns"
   ]
  },
  {
   "cell_type": "markdown",
   "metadata": {},
   "source": [
    "# Predicting Attributes for Businesses\n",
    "\n",
    "There are two primary approaches for this dataset:  \n",
    "1. Predict attributes at the **individual review** level.  \n",
    "2. Predict attributes at the **business** level.  \n",
    "\n",
    "If we aim to predict business attributes such as **price range, ambience,** or similar characteristics, the following roadmap outlines the necessary steps.\n",
    "\n",
    "1. revert to the full dataset (instead of the sample dataset) and apply the following transformations.\n",
    "2. since the goal is to predict attributes for businesses rather than individual reviews, we should aggregate the dataset at the **business level**.\n",
    "3. decide how to handle various attributes. Below are suggested approaches:\n",
    "    - remove `user_id' since user identity is irrelevant for business-level predictions\n",
    "    - the following attributes should remain **constant** for a business across all its reviews. We can simply copy them from any review associated with that business:  \n",
    "        - `business_id`\n",
    "        - `name`\n",
    "        - `business_stars`\n",
    "        - `business_review_count`\n",
    "        - `BusinessParking`\n",
    "        - `Ambience`\n",
    "        - `RestaurantsAttire`\n",
    "        - `RestaurantsPriceRange2`\n",
    "        - `categories`\n",
    "    - `stars`, `useful`, `cool`: These are properties of individual reviews. Are they still useful when aggregating at the business level? We need to determine whether to retain, aggregate (e.g., average), or discard them.\n",
    "    - `user_review_count`, `user_useful`, `user_funny`, `user_cool`, `average_stars`, `fans`, `compliment_hot`, `compliment_more`, `compliment_profile`, `compliment_cute`, `compliment_list`, `compliment_note`, `compliment_plain`, `compliment_cool`, `compliment_funny`, `compliment_writer`, `compliment_photos`  \n",
    "    These attributes describe individual users. Should we **remove** them entirely, or **aggregate** them (e.g., taking the median) as a proxy for a typical reviewer’s profile for each business?\n",
    "    - `text`: we can combine all review texts for a business into a single large paragraph while maintaining structure to differentiate individual reviews. One possible format:  \"{review: ...} {review: ...}...\"\n",
    "4. once the transformations are complete, we should extract a subset of businesses from the full dataset for exploratory analysis.\n",
    "5. from this point onward, the workflow will align with the framework for predicting at the **individual review level** (outlined later). The main difference will be the **target variable**, but adjusting the framework should be straightforward.\n",
    "\n",
    "\n",
    "# Predicting Attributes for Individual Reviews\n",
    "\n",
    "The following code provides an example of how to predict an attribute for each individual review. In this case, we use \"useful\" votes as the attribute of interest.\n",
    "\n",
    "For each business, we first calculate the average number of useful votes received across all its reviews. Each individual review is then compared against this average and classified into one of three categories:\n",
    "\n",
    "- \"Average\" – if the review's useful votes are close to the business's average.\n",
    "\n",
    "- \"More useful\" – if the review has significantly more useful votes than the business's average.\n",
    "\n",
    "- \"Less useful\" – if the review has significantly fewer useful votes.\n",
    "\n",
    "This approach allows us to categorize reviews relative to their business, rather than using an absolute threshold, making the classification more context-aware."
   ]
  },
  {
   "cell_type": "code",
   "execution_count": 2,
   "metadata": {},
   "outputs": [
    {
     "data": {
      "text/plain": [
       "Index(['user_id', 'business_id', 'stars', 'useful', 'cool', 'text', 'name',\n",
       "       'address', 'city', 'state', 'postal_code', 'latitude', 'longitude',\n",
       "       'business_stars', 'business_review_count', 'BusinessParking',\n",
       "       'Ambience', 'RestaurantsAttire', 'RestaurantsPriceRange2', 'categories',\n",
       "       'user_review_count', 'user_useful', 'user_funny', 'user_cool',\n",
       "       'average_stars', 'fans', 'compliment_hot', 'compliment_more',\n",
       "       'compliment_profile', 'compliment_cute', 'compliment_list',\n",
       "       'compliment_note', 'compliment_plain', 'compliment_cool',\n",
       "       'compliment_funny', 'compliment_writer', 'compliment_photos'],\n",
       "      dtype='object')"
      ]
     },
     "execution_count": 2,
     "metadata": {},
     "output_type": "execute_result"
    }
   ],
   "source": [
    "df.columns"
   ]
  },
  {
   "cell_type": "code",
   "execution_count": 3,
   "metadata": {},
   "outputs": [],
   "source": [
    "import pandas as pd\n",
    "import numpy as np\n",
    "from sklearn.model_selection import train_test_split\n",
    "from sklearn.compose import ColumnTransformer\n",
    "from sklearn.pipeline import Pipeline\n",
    "from sklearn.preprocessing import StandardScaler, OneHotEncoder\n",
    "from sklearn.impute import SimpleImputer\n",
    "from sklearn.ensemble import RandomForestClassifier\n",
    "from imblearn.over_sampling import SMOTE\n",
    "from sklearn.metrics import classification_report, confusion_matrix, accuracy_score\n",
    "from sklearn.decomposition import PCA, LatentDirichletAllocation\n",
    "from sklearn.feature_extraction.text import TfidfVectorizer, CountVectorizer\n",
    "from sentence_transformers import SentenceTransformer\n",
    "from textblob import TextBlob\n",
    "import matplotlib.pyplot as plt\n",
    "import seaborn as sns"
   ]
  },
  {
   "cell_type": "code",
   "execution_count": 4,
   "metadata": {},
   "outputs": [],
   "source": [
    "# convert useful votes to useful classifications\n",
    "\n",
    "df_filtered = df.dropna(subset = ['useful', 'business_id'])\n",
    "\n",
    "# preprocessing for useful categories\n",
    "business_avg_useful = df_filtered.groupby('business_id')['useful'].mean().reset_index()\n",
    "business_avg_useful.rename(columns = {'useful': 'average_business_useful'}, inplace = True)\n",
    "\n",
    "# merge the average back\n",
    "df_filtered = df_filtered.merge(business_avg_useful, on = 'business_id', how = 'left')\n",
    "\n",
    "def classify_useful(row):\n",
    "    if row['useful'] > row['average_business_useful']:\n",
    "        return \"more useful\"\n",
    "    elif row['useful'] < row['average_business_useful']:\n",
    "        return \"less useful\"\n",
    "    else:\n",
    "        return \"average\"\n",
    "\n",
    "df_filtered['useful_category'] = df_filtered.apply(classify_useful, axis=1)"
   ]
  },
  {
   "cell_type": "code",
   "execution_count": 5,
   "metadata": {},
   "outputs": [],
   "source": [
    "y = df_filtered['useful_category']\n",
    "X = df_filtered.drop(columns=['useful', 'average_business_useful', 'useful_category'])\n",
    "\n",
    "categorical_cols = ['state', 'city', 'categories', 'BusinessParking', 'Ambience', 'RestaurantsAttire']\n",
    "numerical_cols = ['stars', 'RestaurantsPriceRange2', 'cool', 'business_stars', 'business_review_count',\n",
    "                  'user_review_count', 'user_useful', 'user_funny', 'user_cool', 'average_stars', 'fans']"
   ]
  },
  {
   "cell_type": "code",
   "execution_count": 6,
   "metadata": {},
   "outputs": [],
   "source": [
    "# sentiment analysis\n",
    "df_filtered['sentiment'] = df_filtered['text'].apply(lambda x: TextBlob(str(x)).sentiment.polarity)\n",
    "numerical_cols.append('sentiment')"
   ]
  },
  {
   "cell_type": "code",
   "execution_count": 7,
   "metadata": {},
   "outputs": [],
   "source": [
    "# SBERT embeddings\n",
    "\n",
    "sbert_model = SentenceTransformer('all-MiniLM-L6-v2')\n",
    "text_embeddings_sbert = sbert_model.encode(df_filtered['text'].tolist(), convert_to_numpy = True)\n",
    "pca_sbert = PCA(n_components = 50, random_state = 42)\n",
    "text_embeddings_sbert_reduced = pca_sbert.fit_transform(text_embeddings_sbert)\n",
    "embedding_cols_sbert = [f\"text_sbert_pca_{i}\" for i in range(50)]\n",
    "df_embeddings_sbert = pd.DataFrame(text_embeddings_sbert_reduced, columns = embedding_cols_sbert, index = df_filtered.index)\n",
    "df_filtered = pd.concat([df_filtered, df_embeddings_sbert], axis=1)\n",
    "numerical_cols.extend(embedding_cols_sbert)"
   ]
  },
  {
   "cell_type": "code",
   "execution_count": 8,
   "metadata": {},
   "outputs": [],
   "source": [
    "# LDA topic modeling\n",
    "\n",
    "vectorizer = CountVectorizer(max_features = 1000, stop_words = 'english')\n",
    "X_text = vectorizer.fit_transform(df_filtered['text'])\n",
    "lda = LatentDirichletAllocation(n_components = 5, random_state = 42)\n",
    "lda_topics = lda.fit_transform(X_text)\n",
    "topic_cols = [f\"topic_{i}\" for i in range(5)]\n",
    "df_topics = pd.DataFrame(lda_topics, columns = topic_cols, index = df_filtered.index)\n",
    "df_filtered = pd.concat([df_filtered, df_topics], axis=1)\n",
    "numerical_cols.extend(topic_cols)"
   ]
  },
  {
   "cell_type": "code",
   "execution_count": 10,
   "metadata": {},
   "outputs": [],
   "source": [
    "# TF-IDF\n",
    "tfidf = TfidfVectorizer(max_features = 500, stop_words = 'english')\n",
    "X_tfidf = tfidf.fit_transform(df_filtered['text'])\n",
    "tfidf_cols = [f\"tfidf_{word}\" for word in tfidf.get_feature_names_out()]\n",
    "df_tfidf = pd.DataFrame(X_tfidf.toarray(), columns = tfidf_cols, index = df_filtered.index)\n",
    "df_filtered = pd.concat([df_filtered, df_tfidf], axis = 1)\n",
    "numerical_cols.extend(tfidf_cols)"
   ]
  },
  {
   "cell_type": "code",
   "execution_count": 11,
   "metadata": {},
   "outputs": [],
   "source": [
    "X = df_filtered.drop(columns = ['text'])\n",
    "\n",
    "# preprocessing pipelines\n",
    "numerical_pipeline = Pipeline([\n",
    "    ('imputer', SimpleImputer(strategy = 'mean')),\n",
    "    ('scaler', StandardScaler())\n",
    "])\n",
    "\n",
    "categorical_pipeline = Pipeline([\n",
    "    ('imputer', SimpleImputer(strategy = 'most_frequent')),\n",
    "    ('encoder', OneHotEncoder(handle_unknown = 'ignore'))\n",
    "])\n",
    "\n",
    "preprocessor = ColumnTransformer([\n",
    "    ('num', numerical_pipeline, numerical_cols),\n",
    "    ('cat', categorical_pipeline, categorical_cols)\n",
    "])"
   ]
  },
  {
   "cell_type": "code",
   "execution_count": 12,
   "metadata": {},
   "outputs": [
    {
     "name": "stdout",
     "output_type": "stream",
     "text": [
      "\n",
      "Classification Report:\n",
      "               precision    recall  f1-score   support\n",
      "\n",
      "     average       0.83      0.99      0.90      1628\n",
      " less useful       0.55      0.10      0.17       211\n",
      " more useful       0.63      0.07      0.13       161\n",
      "\n",
      "    accuracy                           0.82      2000\n",
      "   macro avg       0.67      0.39      0.40      2000\n",
      "weighted avg       0.78      0.82      0.76      2000\n",
      "\n",
      "\n",
      "Accuracy: 0.821\n"
     ]
    }
   ],
   "source": [
    "# Preprocess data and split into train/test sets\n",
    "X_encoded = preprocessor.fit_transform(X)\n",
    "X_train, X_test, y_train, y_test = train_test_split(X_encoded, y, test_size = 0.2, random_state = 42, stratify = y)\n",
    "\n",
    "# Apply SMOTE to handle class imbalance\n",
    "smote = SMOTE(random_state = 42)\n",
    "X_train_resampled, y_train_resampled = smote.fit_resample(X_train, y_train)\n",
    "\n",
    "# Train a Random Forest Classifier\n",
    "classifier = RandomForestClassifier(n_estimators = 200, random_state = 42, class_weight = \n",
    "                                    {'average': 1, 'less useful': 20, 'more useful': 20})\n",
    "classifier.fit(X_train_resampled, y_train_resampled)\n",
    "\n",
    "# Make predictions on the test set\n",
    "y_pred = classifier.predict(X_test)\n",
    "\n",
    "# Evaluate model performance\n",
    "print(\"\\nClassification Report:\\n\", classification_report(y_test, y_pred))\n",
    "print(\"\\nAccuracy:\", accuracy_score(y_test, y_pred))"
   ]
  },
  {
   "cell_type": "code",
   "execution_count": 13,
   "metadata": {},
   "outputs": [
    {
     "data": {
      "image/png": "[encoded data removed]",
      "text/plain": [
       "<Figure size 800x600 with 2 Axes>"
      ]
     },
     "metadata": {},
     "output_type": "display_data"
    }
   ],
   "source": [
    "# classification visualization\n",
    "\n",
    "class_labels = sorted(y.unique())\n",
    "conf_matrix = confusion_matrix(y_test, y_pred, labels=class_labels)\n",
    "\n",
    "plt.figure(figsize=(8, 6))\n",
    "ax = sns.heatmap(conf_matrix, annot = False, cmap = 'Blues', xticklabels = class_labels, yticklabels = class_labels)\n",
    "min_val, max_val = conf_matrix.min(), conf_matrix.max()\n",
    "threshold = (min_val + max_val) / 2\n",
    "\n",
    "for i in range(conf_matrix.shape[0]):\n",
    "    for j in range(conf_matrix.shape[1]):\n",
    "        value = conf_matrix[i, j]\n",
    "        text_color = \"white\" if value > threshold else \"black\"  # Choose color based on intensity\n",
    "        ax.text(j + 0.5, i + 0.5, value, ha = 'center', va = 'center', color = text_color, fontsize = 12)\n",
    "\n",
    "plt.xlabel(\"Predicted\")\n",
    "plt.ylabel(\"Actual\")\n",
    "plt.title(\"Confusion Matrix\")\n",
    "plt.show()\n"
   ]
  }
 ],
 "metadata": {
  "kernelspec": {
   "display_name": "base",
   "language": "python",
   "name": "python3"
  },
  "language_info": {
   "codemirror_mode": {
    "name": "ipython",
    "version": 3
   },
   "file_extension": ".py",
   "mimetype": "text/x-python",
   "name": "python",
   "nbconvert_exporter": "python",
   "pygments_lexer": "ipython3",
   "version": "3.11.7"
  }
 },
 "nbformat": 4,
 "nbformat_minor": 2
}
